{
 "metadata": {
  "name": "",
  "signature": "sha256:0fca55c045d05195a74a133748903bed4a1bc8bc3f5559403017c80cca6a0f5a"
 },
 "nbformat": 3,
 "nbformat_minor": 0,
 "worksheets": [
  {
   "cells": [
    {
     "cell_type": "code",
     "collapsed": false,
     "input": [
      "import matplotlib.pyplot as plt\n",
      "%matplotlib inline\n",
      "\n",
      "import io_tools as iot\n",
      "import os\n",
      "import numpy as np\n",
      "from collections import OrderedDict\n",
      "from time import time\n",
      "import plyvel\n",
      "from caffe import io\n",
      "import sys\n",
      "\n",
      "from sklearn.base import TransformerMixin, BaseEstimator\n",
      "from sklearn.decomposition import FactorAnalysis\n",
      "from sklearn.decomposition import PCA\n",
      "from sklearn.preprocessing import StandardScaler\n",
      "from sklearn.preprocessing import MinMaxScaler\n",
      "from sklearn.pipeline import Pipeline, make_pipeline, FeatureUnion, make_union\n",
      "from sklearn.feature_extraction.text import TfidfTransformer\n",
      "sys.path.append('/afs/ee.cooper.edu/user/t/a/tam8/documents/py-sparse-filtering/')\n",
      "import sparseFiltering as SF\n",
      "from sklearn.linear_model import LogisticRegression\n",
      "from sklearn.ensemble import ExtraTreesClassifier\n",
      "from sklearn.ensemble import RandomForestClassifier\n",
      "\n",
      "from sklearn.cross_validation import StratifiedKFold\n",
      "\n",
      "# DATA_DIR = iot.DATA_DIR\n",
      "DATA_DIR = '/media/raid_arr/data/otto/data/'\n",
      "DB_OUT_TRAIN = os.path.join(DATA_DIR, 'train_lvl')\n",
      "DB_OUT_TEST = os.path.join(DATA_DIR, 'test_lvl')\n",
      "DB_OUT_ALL = os.path.join(DATA_DIR, 'all_lvl')\n",
      "DB_OUT_ALL0 = os.path.join(DATA_DIR, 'all0_lvl')"
     ],
     "language": "python",
     "metadata": {},
     "outputs": [],
     "prompt_number": 1
    },
    {
     "cell_type": "heading",
     "level": 2,
     "metadata": {},
     "source": [
      "Load Raw-ish Data"
     ]
    },
    {
     "cell_type": "code",
     "collapsed": false,
     "input": [
      "try:\n",
      "    ids_train, feats_train, labels_train\n",
      "except NameError:\n",
      "    ids_train = np.load(os.path.join(iot.DATA_DIR, 'train_ids.npy'))\n",
      "    feats_train = np.load(os.path.join(iot.DATA_DIR, 'train_feats.npy')).astype(float)\n",
      "    labels_train = np.load(os.path.join(iot.DATA_DIR, 'train_labels_enc.npy'))\n",
      "\n",
      "try:\n",
      "    ids_test, feats_test\n",
      "except NameError:\n",
      "    ids_test = np.load(os.path.join(iot.DATA_DIR, 'test_ids.npy'))\n",
      "    feats_test = np.load(os.path.join(iot.DATA_DIR, 'test_feats.npy')).astype(float)   \n",
      "    \n",
      "skf = StratifiedKFold(labels_train, n_folds=5, shuffle=True)\n",
      "# All\n",
      "feats_all = np.r_[feats_train, feats_test]\n",
      "labels_all = np.r_[labels_train, -1*np.ones(len(ids_test))].astype(int)\n",
      "\n",
      "# All minus test0\n",
      "train_ind, val_ind = iter(skf).next()\n",
      "feats_all0 = np.r_[feats_train[train_ind, :], feats_test]\n",
      "labels_all0 = np.r_[labels_train[train_ind], -1*np.ones(len(ids_test))].astype(int)\n",
      "\n",
      "\n",
      "feats_fold_train = feats_train[train_ind, :]\n",
      "labels_fold_train = labels_train[train_ind]\n",
      "feats_fold_val = feats_train[val_ind, :]\n",
      "labels_fold_val = labels_train[val_ind]\n"
     ],
     "language": "python",
     "metadata": {},
     "outputs": [],
     "prompt_number": 2
    },
    {
     "cell_type": "code",
     "collapsed": false,
     "input": [
      "class FitlessMixin(TransformerMixin):\n",
      "    def fit_transform(self, X, y=None, **fit_params):\n",
      "        self.fit(X, y, **fit_params)\n",
      "        return self.transform(X)\n",
      "\n",
      "    def fit(self, X, y=None, **fit_params):\n",
      "        return self\n",
      "\n",
      "class IdentityTformer(FitlessMixin):\n",
      "    def transform(self, X, y=None, **fit_params):\n",
      "        return X\n",
      "    \n",
      "class DenseTformer(FitlessMixin):\n",
      "    def transform(self, X, y=None, **fit_params):\n",
      "        return X.todense()\n",
      "    \n",
      "class LogTformer(FitlessMixin):\n",
      "    def transform(self, X, y=None, **fit_params):\n",
      "        return np.log(X+1)\n",
      "\n",
      "class NzTformer(FitlessMixin):\n",
      "    def transform(self, X, y=None, **fit_params):\n",
      "        return np.apply_along_axis(func1d=np.count_nonzero, \n",
      "                                   axis=1, arr=X)[:, None]\n",
      "    \n",
      "class NzvarTformer(FitlessMixin):\n",
      "    def transform(self, X, y=None, **fit_params):\n",
      "        ret = np.apply_along_axis(func1d=lambda r: np.var(r[np.nonzero(r)]), \n",
      "                                   axis=1, arr=X)[:, None]\n",
      "        ret[np.isnan(ret)] = 0\n",
      "        return ret\n",
      "    \n",
      "class NzmeanTformer(FitlessMixin):\n",
      "    def transform(self, X, y=None, **fit_params):\n",
      "        ret = np.apply_along_axis(func1d=lambda r: np.mean(r[np.nonzero(r)]), \n",
      "                                   axis=1, arr=X)[:, None]\n",
      "        ret[np.isnan(ret)] = 0\n",
      "        return ret\n",
      " \n",
      "class ZCA(BaseEstimator, TransformerMixin):\n",
      " \n",
      "    def __init__(self, regularization=10**-5, copy=False):\n",
      "        self.regularization = regularization\n",
      "        self.copy = copy\n",
      " \n",
      "    def fit(self, X, y=None):\n",
      "        X = X.astype(float)\n",
      "        self.mean_ = np.mean(X, axis=0)\n",
      "        X -= self.mean_\n",
      "        sigma = np.dot(X.T,X) / X.shape[1]\n",
      "        U, S, V = np.linalg.svd(sigma)\n",
      "        tmp = np.dot(U, np.diag(1/np.sqrt(S+self.regularization)))\n",
      "        self.components_ = np.dot(tmp, U.T)\n",
      "        return self\n",
      " \n",
      "    def transform(self, X):\n",
      "        X = np.array(X)\n",
      "        X_transformed = X - self.mean_\n",
      "        X_transformed = np.dot(X_transformed, self.components_.T)\n",
      "        return X_transformed\n",
      "    \n",
      "# class FaTformer(FitlessMixin):\n",
      "#     def __init__(self, feats_all):\n",
      "#         self.fa = FactorAnalysis(n_components=74)\n",
      "#         self.fa.fit(feats_all)\n",
      "#     def transform(self, X, y=None, **fit_params):\n",
      "#         return self.fa.transform(X)\n",
      "\n",
      "# class PcaTformer(FitlessMixin):\n",
      "#     def __init__(self, feats_all):\n",
      "#         self.pca = PCA(n_components=20)\n",
      "#         self.pca.fit(feats_all)\n",
      "#     def transform(self, X, y=None, **fit_params):\n",
      "#         return self.pca.transform(X)\n",
      "\n",
      "\n",
      "    "
     ],
     "language": "python",
     "metadata": {},
     "outputs": [],
     "prompt_number": 3
    },
    {
     "cell_type": "code",
     "collapsed": false,
     "input": [
      "pipe = make_pipeline(\n",
      "                    TfidfTransformer(norm=u'l2', \n",
      "                                      use_idf=True, \n",
      "                                      smooth_idf=True, \n",
      "                                      sublinear_tf=True),\n",
      "                     DenseTformer(),\n",
      "                     make_union(\n",
      "                                IdentityTformer(),\n",
      "#                                 FactorAnalysis(n_components=74),\n",
      "#                                 PCA(n_components=20, whiten=True),\n",
      "                                NzTformer(),\n",
      "                                NzvarTformer(),\n",
      "                                NzmeanTformer(),\n",
      "                     ),\n",
      "                     StandardScaler(),\n",
      "#                      MinMaxScaler(),\n",
      "                     )"
     ],
     "language": "python",
     "metadata": {},
     "outputs": [],
     "prompt_number": 4
    },
    {
     "cell_type": "heading",
     "level": 2,
     "metadata": {},
     "source": [
      "LESGO"
     ]
    },
    {
     "cell_type": "code",
     "collapsed": false,
     "input": [
      "pipe.fit(feats_all)"
     ],
     "language": "python",
     "metadata": {},
     "outputs": [
      {
       "output_type": "stream",
       "stream": "stderr",
       "text": [
        "/usr/lib/python2.7/site-packages/numpy/core/_methods.py:83: RuntimeWarning: Degrees of freedom <= 0 for slice\n",
        "  warnings.warn(\"Degrees of freedom <= 0 for slice\", RuntimeWarning)\n",
        "/usr/lib/python2.7/site-packages/numpy/core/_methods.py:95: RuntimeWarning: invalid value encountered in true_divide\n",
        "  arrmean, rcount, out=arrmean, casting='unsafe', subok=False)\n",
        "/usr/lib/python2.7/site-packages/numpy/core/_methods.py:117: RuntimeWarning: invalid value encountered in double_scalars\n",
        "  ret = ret.dtype.type(ret / rcount)\n",
        "/usr/lib/python2.7/site-packages/numpy/core/_methods.py:59: RuntimeWarning: Mean of empty slice.\n",
        "  warnings.warn(\"Mean of empty slice.\", RuntimeWarning)\n"
       ]
      },
      {
       "output_type": "stream",
       "stream": "stderr",
       "text": [
        "/usr/lib/python2.7/site-packages/numpy/core/_methods.py:71: RuntimeWarning: invalid value encountered in double_scalars\n",
        "  ret = ret.dtype.type(ret / rcount)\n"
       ]
      },
      {
       "metadata": {},
       "output_type": "pyout",
       "prompt_number": 5,
       "text": [
        "Pipeline(steps=[('tfidftransformer', TfidfTransformer(norm=u'l2', smooth_idf=True, sublinear_tf=True, use_idf=True)), ('densetformer', <__main__.DenseTformer object at 0x7f8c1ae0cb10>), ('featureunion', FeatureUnion(n_jobs=1,\n",
        "       transformer_list=[('identitytformer', <__main__.IdentityTformer object at 0x...former_weights=None)), ('standardscaler', StandardScaler(copy=True, with_mean=True, with_std=True))])"
       ]
      }
     ],
     "prompt_number": 5
    },
    {
     "cell_type": "code",
     "collapsed": false,
     "input": [
      "feats_all.shape"
     ],
     "language": "python",
     "metadata": {},
     "outputs": [
      {
       "metadata": {},
       "output_type": "pyout",
       "prompt_number": 6,
       "text": [
        "(206246, 93)"
       ]
      }
     ],
     "prompt_number": 6
    },
    {
     "cell_type": "code",
     "collapsed": false,
     "input": [
      "import numpy as np\n",
      "from sklearn.base import BaseEstimator\n",
      "from sklearn.base import ClassifierMixin\n",
      "from sklearn.utils.validation import check_X_y, check_is_fitted\n",
      "from sklearn.semi_supervised import LabelSpreading\n",
      "from inspect import getargspec\n",
      "\n",
      "from joblib import Parallel, delayed\n",
      "import multiprocessing\n",
      "num_cores = multiprocessing.cpu_count()\n",
      "\n",
      "\n",
      "class Cotrain(BaseEstimator, ClassifierMixin):\n",
      "    def __init__(self, h, max_iters=500, u_subsize=-1, conf_thresh=0.5, n_est_incr=0):\n",
      "        \"\"\"\n",
      "        Parameters\n",
      "        ----------\n",
      "        h: iterable of classifiers (only 2 supported for now)\n",
      "            make sure the estimators can `predict_proba`\n",
      "        max_iters: max number of unlabeled samples to add divided by 2\n",
      "        u_subsize: number of unlabeled samples to consider\n",
      "        conf_thresh: min confidence to add to training\n",
      "        n_est_incr: number of additional estimators to create (for warm start RF)\n",
      "        \"\"\"\n",
      "        self.h = h\n",
      "        self.max_iter = max_iters\n",
      "        self.n_iter_ = 0\n",
      "        self.u_subsize = u_subsize\n",
      "        self.conf_thresh = conf_thresh\n",
      "        self.L_X = None\n",
      "        self.L_y = None\n",
      "        \n",
      "        self.n_est_incr = n_est_incr\n",
      "\n",
      "    def predict_proba(self, X):\n",
      "        \"\"\"Predict probability for each possible outcome.\n",
      "\n",
      "        Compute the probability estimates for each single sample in X\n",
      "        and each possible outcome seen during training (categorical\n",
      "        distribution).\n",
      "\n",
      "        Parameters\n",
      "        ----------\n",
      "        X : array_like, shape = [n_samples, n_features]\n",
      "\n",
      "        Returns\n",
      "        -------\n",
      "        probabilities : array, shape = [n_samples, n_classes]\n",
      "            Normalized probability distributions across\n",
      "            class labels\n",
      "        \"\"\"\n",
      "        check_is_fitted(self, 'X_')\n",
      "\n",
      "        # proba1 = self.h[0].predict_proba(X)\n",
      "        # proba2 = self.h[1].predict_proba(X)\n",
      "        # probabilities = 0.5 * (proba1 + proba2)\n",
      "        probabilities = np.average(np.array([\n",
      "            h.predict_proba(X) for h in self.h\n",
      "        ]), axis=0, weights=None)\n",
      "        return probabilities\n",
      "\n",
      "    def predict(self, X):\n",
      "        \"\"\"\n",
      "        Parameters\n",
      "        ----------\n",
      "        X : array_like, shape = [n_samples, n_features]\n",
      "\n",
      "        Returns\n",
      "        -------\n",
      "        y : array_like, shape = [n_samples]\n",
      "            Predictions for input data\n",
      "        \"\"\"\n",
      "        probas = self.predict_proba(X)\n",
      "        return self.classes_[np.argmax(probas, axis=1)].ravel()\n",
      "\n",
      "    def fit(self, X, y):\n",
      "        \"\"\"Fit a semi-supervised co-training model\n",
      "\n",
      "        All the input data is provided matrix X (labeled and unlabeled)\n",
      "        and corresponding label matrix y with a dedicated marker value for\n",
      "        unlabeled samples.\n",
      "\n",
      "        Parameters\n",
      "        ----------\n",
      "        X : array-like, shape = [n_samples, n_features]\n",
      "            A {n_samples by n_samples} size matrix will be created from this\n",
      "\n",
      "        y : array_like, shape = [n_samples]\n",
      "            n_labeled_samples (unlabeled points are marked as -1)\n",
      "            All unlabeled samples will be transductively assigned labels\n",
      "\n",
      "        Returns\n",
      "        -------\n",
      "        self : returns an instance of self.\n",
      "        \"\"\"\n",
      "        tic = time()\n",
      "        X, y = check_X_y(X, y)\n",
      "        self.X_ = X\n",
      "\n",
      "        # label construction\n",
      "        # construct a categorical distribution for classification only\n",
      "        classes = np.unique(y)\n",
      "        classes = (classes[classes != -1])\n",
      "        self.classes_ = classes\n",
      "\n",
      "        n_samples, n_classes = len(y), len(classes)\n",
      "\n",
      "        y = np.asarray(y)\n",
      "        unlabeled = y == -1\n",
      "        labeled = y != -1\n",
      "\n",
      "        # Separate L pools\n",
      "        self.L_X = [X[labeled, :]] * len(self.h)\n",
      "        self.L_y = [y[labeled]] * len(self.h)\n",
      "\n",
      "        # Shared U pool\n",
      "        U_X = X[unlabeled, :]\n",
      "        if self.u_subsize > 0:  # subset of unlabeled pts\n",
      "            U_X = U_X[np.random.permutation(\n",
      "                np.arange(len(U_X)))[:self.u_subsize], :]\n",
      "        else:\n",
      "            np.random.shuffle(U_X)\n",
      "\n",
      "        # Initial fit\n",
      "        # todo: unless they were already fitted\n",
      "        for ii, h_i in enumerate(self.h):\n",
      "            h_i.fit(self.L_X[ii], self.L_y[ii])\n",
      "\n",
      "        remaining_iter = self.max_iter\n",
      "        pi = [None for ii in range(len(self.h))]   # pts to add\n",
      "        # left open for convergence criterion\n",
      "        # or if no unlabeled probs are > some cutoff (~90%?)\n",
      "        while remaining_iter > 1 and \\\n",
      "                U_X.shape[0]:\n",
      "            toc = time() - tic\n",
      "            print str(remaining_iter) + ':' + str(toc)[:5] + '|\\t',\n",
      "            sys.stdout.flush()\n",
      "            # Cant parallelize this\n",
      "            for ii, h in enumerate(self.h):\n",
      "                proba = h.predict_proba(U_X)\n",
      "                # Can add the winner of each class\n",
      "                # but for now, just add the biggest winner to its class\n",
      "                if proba.max() > self.conf_thresh:\n",
      "                    ind_top = np.argmax(proba.max(axis=1))\n",
      "                    x_top = U_X[ind_top, :]\n",
      "                    y_top = h.predict(x_top)    # or just argmax the proba\n",
      "                    pi[ii] = (x_top[None, :], y_top)\n",
      "                    U_X = np.delete(U_X, ind_top, axis=0)    # Remove pt from set\n",
      "                else:\n",
      "                    pi[ii] = None\n",
      "\n",
      "            change_flag = False\n",
      "            # CAN parallelize this\n",
      "            for ii in range(len(self.h)):\n",
      "                if pi[ii]:\n",
      "                    # Add new pt to the OTHER estimator's training\n",
      "                    jj = (ii + 1) % 2\n",
      "                    self.L_X[jj] = np.append(self.L_X[jj], pi[ii][0], axis=0)\n",
      "                    self.L_y[jj] = np.append(self.L_y[jj], pi[ii][1])\n",
      "                    \n",
      "                    if self.n_est_incr and 'warm_start' in self.h[jj].get_params().keys() and self.h[jj].get_params()['warm_start']:\n",
      "                        new_n_est = self.h[jj].get_params()['n_estimators'] + self.n_est_incr\n",
      "                        self.h[jj].set_params(n_estimators=new_n_est)\n",
      "                    \n",
      "                    self.h[jj].fit(self.L_X[jj], self.L_y[jj])\n",
      "                    change_flag = True\n",
      "\n",
      "            if change_flag:\n",
      "                # Replenish U_x with more samples\n",
      "                # screw it\n",
      "                pass\n",
      "            else:\n",
      "                # If neither estimator is updated, it's over\n",
      "                break\n",
      "\n",
      "            remaining_iter -= 1\n",
      "\n",
      "        self.n_iter_ = self.max_iter - remaining_iter\n",
      "        return self\n"
     ],
     "language": "python",
     "metadata": {},
     "outputs": [],
     "prompt_number": 6
    },
    {
     "cell_type": "code",
     "collapsed": false,
     "input": [
      "\n",
      "\n",
      "X_train = pipe.transform(feats_fold_train)\n",
      "y_train = labels_fold_train\n",
      "\n",
      "X_all0 = pipe.transform(feats_all0)\n",
      "y_all0 = labels_all0\n",
      "\n",
      "X_val = pipe.transform(feats_fold_val)\n",
      "y_val = labels_fold_val\n",
      "\n",
      "\n"
     ],
     "language": "python",
     "metadata": {},
     "outputs": [],
     "prompt_number": 7
    },
    {
     "cell_type": "code",
     "collapsed": false,
     "input": [
      "from sklearn.metrics import log_loss\n",
      "lr = LogisticRegression()\n",
      "\n",
      "lr.fit(X_train, y_train)\n",
      "probs = lr.predict_proba(X_val)\n",
      "l = log_loss(y_val, probs)\n",
      "\n",
      "print l\n"
     ],
     "language": "python",
     "metadata": {},
     "outputs": [
      {
       "output_type": "stream",
       "stream": "stdout",
       "text": [
        "0.670657801371\n"
       ]
      }
     ],
     "prompt_number": 8
    },
    {
     "cell_type": "code",
     "collapsed": false,
     "input": [
      "from sklearn.ensemble import RandomForestClassifier\n",
      "\n",
      "# clf1 = LogisticRegression()\n",
      "# clf2 = LogisticRegression()\n",
      "\n",
      "clf1 = RandomForestClassifier(n_estimators=100, warm_start=True, n_jobs=-1)\n",
      "clf2 = RandomForestClassifier(n_estimators=100, warm_start=True, n_jobs=-1)\n",
      "\n",
      "cot = Cotrain([clf1, clf2], \n",
      "              max_iters=500, u_subsize=-1, conf_thresh=0.5, n_est_incr=1)\n",
      "tic = time()\n",
      "cot.fit(X_all0, y_all0)\n",
      "\n",
      "probs_cot = cot.predict_proba(X_val)\n",
      "l_cot = log_loss(y_val, probs_cot)\n",
      "\n",
      "toc = time() - tic\n",
      "\n",
      "print '------------'\n",
      "print l_cot\n",
      "\n",
      "print toc, ' sec'"
     ],
     "language": "python",
     "metadata": {},
     "outputs": [
      {
       "output_type": "stream",
       "stream": "stdout",
       "text": [
        "500:13.20|"
       ]
      },
      {
       "output_type": "stream",
       "stream": "stdout",
       "text": [
        " 499:20.34|"
       ]
      },
      {
       "output_type": "stream",
       "stream": "stdout",
       "text": [
        " 498:27.39|"
       ]
      },
      {
       "output_type": "stream",
       "stream": "stdout",
       "text": [
        " 497:34.47|"
       ]
      },
      {
       "output_type": "stream",
       "stream": "stdout",
       "text": [
        " 496:41.71|"
       ]
      },
      {
       "output_type": "stream",
       "stream": "stdout",
       "text": [
        " 495:48.81|"
       ]
      },
      {
       "output_type": "stream",
       "stream": "stdout",
       "text": [
        " 494:56.01|"
       ]
      },
      {
       "output_type": "stream",
       "stream": "stdout",
       "text": [
        " 493:63.16|"
       ]
      },
      {
       "output_type": "stream",
       "stream": "stdout",
       "text": [
        " 492:70.29|"
       ]
      },
      {
       "output_type": "stream",
       "stream": "stdout",
       "text": [
        " 491:77.89|"
       ]
      },
      {
       "output_type": "stream",
       "stream": "stdout",
       "text": [
        " 490:85.32|"
       ]
      },
      {
       "output_type": "stream",
       "stream": "stdout",
       "text": [
        " 489:92.93|"
       ]
      },
      {
       "output_type": "stream",
       "stream": "stdout",
       "text": [
        " 488:100.4|"
       ]
      },
      {
       "output_type": "stream",
       "stream": "stdout",
       "text": [
        " 487:108.0|"
       ]
      },
      {
       "output_type": "stream",
       "stream": "stdout",
       "text": [
        " 486:115.5|"
       ]
      },
      {
       "output_type": "stream",
       "stream": "stdout",
       "text": [
        " 485:123.2|"
       ]
      },
      {
       "output_type": "stream",
       "stream": "stdout",
       "text": [
        " 484:130.8|"
       ]
      },
      {
       "output_type": "stream",
       "stream": "stdout",
       "text": [
        " 483:138.3|"
       ]
      },
      {
       "output_type": "stream",
       "stream": "stdout",
       "text": [
        " 482:146.2|"
       ]
      },
      {
       "output_type": "stream",
       "stream": "stdout",
       "text": [
        " 481:154.0|"
       ]
      },
      {
       "output_type": "stream",
       "stream": "stdout",
       "text": [
        " 480:161.8|"
       ]
      },
      {
       "output_type": "stream",
       "stream": "stdout",
       "text": [
        " 479:169.7|"
       ]
      },
      {
       "output_type": "stream",
       "stream": "stdout",
       "text": [
        " 478:177.9|"
       ]
      },
      {
       "output_type": "stream",
       "stream": "stdout",
       "text": [
        " 477:186.3|"
       ]
      },
      {
       "output_type": "stream",
       "stream": "stdout",
       "text": [
        " 476:194.3|"
       ]
      },
      {
       "output_type": "stream",
       "stream": "stdout",
       "text": [
        " 475:202.4|"
       ]
      },
      {
       "output_type": "stream",
       "stream": "stdout",
       "text": [
        " 474:210.7|"
       ]
      },
      {
       "output_type": "stream",
       "stream": "stdout",
       "text": [
        " 473:219.0|"
       ]
      },
      {
       "output_type": "stream",
       "stream": "stdout",
       "text": [
        " 472:227.4|"
       ]
      },
      {
       "output_type": "stream",
       "stream": "stdout",
       "text": [
        " 471:235.6|"
       ]
      },
      {
       "output_type": "stream",
       "stream": "stdout",
       "text": [
        " 470:244.2|"
       ]
      },
      {
       "output_type": "stream",
       "stream": "stdout",
       "text": [
        " 469:252.6|"
       ]
      },
      {
       "output_type": "stream",
       "stream": "stdout",
       "text": [
        " 468:261.3|"
       ]
      },
      {
       "output_type": "stream",
       "stream": "stdout",
       "text": [
        " 467:270.0|"
       ]
      },
      {
       "output_type": "stream",
       "stream": "stdout",
       "text": [
        " 466:278.5|"
       ]
      },
      {
       "output_type": "stream",
       "stream": "stdout",
       "text": [
        " 465:287.1|"
       ]
      },
      {
       "output_type": "stream",
       "stream": "stdout",
       "text": [
        " 464:296.0|"
       ]
      },
      {
       "output_type": "stream",
       "stream": "stdout",
       "text": [
        " 463:304.8|"
       ]
      },
      {
       "output_type": "stream",
       "stream": "stdout",
       "text": [
        " 462:313.8|"
       ]
      },
      {
       "output_type": "stream",
       "stream": "stdout",
       "text": [
        " 461:322.8|"
       ]
      },
      {
       "output_type": "stream",
       "stream": "stdout",
       "text": [
        " 460:331.7|"
       ]
      },
      {
       "output_type": "stream",
       "stream": "stdout",
       "text": [
        " 459:340.9|"
       ]
      },
      {
       "output_type": "stream",
       "stream": "stdout",
       "text": [
        " 458:350.0|"
       ]
      },
      {
       "output_type": "stream",
       "stream": "stdout",
       "text": [
        " 457:359.2|"
       ]
      },
      {
       "output_type": "stream",
       "stream": "stdout",
       "text": [
        " 456:368.7|"
       ]
      },
      {
       "output_type": "stream",
       "stream": "stdout",
       "text": [
        " 455:378.0|"
       ]
      },
      {
       "output_type": "stream",
       "stream": "stdout",
       "text": [
        " 454:387.3|"
       ]
      },
      {
       "output_type": "stream",
       "stream": "stdout",
       "text": [
        " 453:396.7|"
       ]
      },
      {
       "output_type": "stream",
       "stream": "stdout",
       "text": [
        " 452:406.1|"
       ]
      },
      {
       "output_type": "stream",
       "stream": "stdout",
       "text": [
        " 451:415.7|"
       ]
      },
      {
       "output_type": "stream",
       "stream": "stdout",
       "text": [
        " 450:425.2|"
       ]
      },
      {
       "output_type": "stream",
       "stream": "stdout",
       "text": [
        " 449:434.8|"
       ]
      },
      {
       "output_type": "stream",
       "stream": "stdout",
       "text": [
        " 448:444.4|"
       ]
      },
      {
       "output_type": "stream",
       "stream": "stdout",
       "text": [
        " 447:454.0|"
       ]
      },
      {
       "output_type": "stream",
       "stream": "stdout",
       "text": [
        " 446:463.8|"
       ]
      },
      {
       "output_type": "stream",
       "stream": "stdout",
       "text": [
        " 445:473.7|"
       ]
      },
      {
       "output_type": "stream",
       "stream": "stdout",
       "text": [
        " 444:483.8|"
       ]
      },
      {
       "output_type": "stream",
       "stream": "stdout",
       "text": [
        " 443:493.7|"
       ]
      },
      {
       "output_type": "stream",
       "stream": "stdout",
       "text": [
        " 442:503.9|"
       ]
      },
      {
       "output_type": "stream",
       "stream": "stdout",
       "text": [
        " 441:513.9|"
       ]
      },
      {
       "output_type": "stream",
       "stream": "stdout",
       "text": [
        " 440:524.0|"
       ]
      },
      {
       "output_type": "stream",
       "stream": "stdout",
       "text": [
        " 439:534.1|"
       ]
      },
      {
       "output_type": "stream",
       "stream": "stdout",
       "text": [
        " 438:544.2|"
       ]
      },
      {
       "output_type": "stream",
       "stream": "stdout",
       "text": [
        " 437:554.4|"
       ]
      },
      {
       "output_type": "stream",
       "stream": "stdout",
       "text": [
        " 436:564.7|"
       ]
      },
      {
       "output_type": "stream",
       "stream": "stdout",
       "text": [
        " 435:574.9|"
       ]
      },
      {
       "output_type": "stream",
       "stream": "stdout",
       "text": [
        " 434:585.4|"
       ]
      },
      {
       "output_type": "stream",
       "stream": "stdout",
       "text": [
        " 433:595.8|"
       ]
      },
      {
       "output_type": "stream",
       "stream": "stdout",
       "text": [
        " 432:606.1|"
       ]
      },
      {
       "output_type": "stream",
       "stream": "stdout",
       "text": [
        " 431:616.6|"
       ]
      },
      {
       "output_type": "stream",
       "stream": "stdout",
       "text": [
        " 430:627.3|"
       ]
      },
      {
       "output_type": "stream",
       "stream": "stdout",
       "text": [
        " 429:637.9|"
       ]
      },
      {
       "output_type": "stream",
       "stream": "stdout",
       "text": [
        " 428:648.7|"
       ]
      },
      {
       "output_type": "stream",
       "stream": "stdout",
       "text": [
        " 427:659.5|"
       ]
      },
      {
       "output_type": "stream",
       "stream": "stdout",
       "text": [
        " 426:670.3|"
       ]
      },
      {
       "output_type": "stream",
       "stream": "stdout",
       "text": [
        " 425:681.1|"
       ]
      },
      {
       "output_type": "stream",
       "stream": "stdout",
       "text": [
        " 424:692.1|"
       ]
      },
      {
       "output_type": "stream",
       "stream": "stdout",
       "text": [
        " 423:703.0|"
       ]
      },
      {
       "output_type": "stream",
       "stream": "stdout",
       "text": [
        " 422:714.0|"
       ]
      },
      {
       "output_type": "stream",
       "stream": "stdout",
       "text": [
        " 421:725.2|"
       ]
      },
      {
       "output_type": "stream",
       "stream": "stdout",
       "text": [
        " 420:736.5|"
       ]
      },
      {
       "output_type": "stream",
       "stream": "stdout",
       "text": [
        " 419:747.6|"
       ]
      },
      {
       "output_type": "stream",
       "stream": "stdout",
       "text": [
        " 418:758.9|"
       ]
      },
      {
       "output_type": "stream",
       "stream": "stdout",
       "text": [
        " 417:770.1|"
       ]
      },
      {
       "output_type": "stream",
       "stream": "stdout",
       "text": [
        " 416:781.5|"
       ]
      },
      {
       "output_type": "stream",
       "stream": "stdout",
       "text": [
        " 415:793.0|"
       ]
      },
      {
       "output_type": "stream",
       "stream": "stdout",
       "text": [
        " 414:804.6|"
       ]
      },
      {
       "output_type": "stream",
       "stream": "stdout",
       "text": [
        " 413:816.2|"
       ]
      },
      {
       "output_type": "stream",
       "stream": "stdout",
       "text": [
        " 412:827.7|"
       ]
      },
      {
       "output_type": "stream",
       "stream": "stdout",
       "text": [
        " 411:839.3|"
       ]
      },
      {
       "output_type": "stream",
       "stream": "stdout",
       "text": [
        " 410:851.0|"
       ]
      },
      {
       "output_type": "stream",
       "stream": "stdout",
       "text": [
        " 409:862.6|"
       ]
      },
      {
       "output_type": "stream",
       "stream": "stdout",
       "text": [
        " 408:874.3|"
       ]
      },
      {
       "output_type": "stream",
       "stream": "stdout",
       "text": [
        " 407:885.9|"
       ]
      },
      {
       "output_type": "stream",
       "stream": "stdout",
       "text": [
        " 406:897.8|"
       ]
      },
      {
       "output_type": "stream",
       "stream": "stdout",
       "text": [
        " 405:909.8|"
       ]
      },
      {
       "output_type": "stream",
       "stream": "stdout",
       "text": [
        " 404:921.9|"
       ]
      },
      {
       "output_type": "stream",
       "stream": "stdout",
       "text": [
        " 403:933.9|"
       ]
      },
      {
       "output_type": "stream",
       "stream": "stdout",
       "text": [
        " 402:946.1|"
       ]
      },
      {
       "output_type": "stream",
       "stream": "stdout",
       "text": [
        " 401:958.6|"
       ]
      },
      {
       "output_type": "stream",
       "stream": "stdout",
       "text": [
        " 400:970.9|"
       ]
      },
      {
       "output_type": "stream",
       "stream": "stdout",
       "text": [
        " 399:983.2|"
       ]
      },
      {
       "output_type": "stream",
       "stream": "stdout",
       "text": [
        " 398:995.5|"
       ]
      },
      {
       "output_type": "stream",
       "stream": "stdout",
       "text": [
        " 397:1007.|"
       ]
      },
      {
       "output_type": "stream",
       "stream": "stdout",
       "text": [
        " 396:1020.|"
       ]
      },
      {
       "output_type": "stream",
       "stream": "stdout",
       "text": [
        " 395:1033.|"
       ]
      },
      {
       "output_type": "stream",
       "stream": "stdout",
       "text": [
        " 394:1045.|"
       ]
      },
      {
       "output_type": "stream",
       "stream": "stdout",
       "text": [
        " 393:1057.|"
       ]
      },
      {
       "output_type": "stream",
       "stream": "stdout",
       "text": [
        " 392:1070.|"
       ]
      },
      {
       "output_type": "stream",
       "stream": "stdout",
       "text": [
        " 391:1083.|"
       ]
      },
      {
       "output_type": "stream",
       "stream": "stdout",
       "text": [
        " 390:1095.|"
       ]
      },
      {
       "output_type": "stream",
       "stream": "stdout",
       "text": [
        " 389:1108.|"
       ]
      },
      {
       "output_type": "stream",
       "stream": "stdout",
       "text": [
        " 388:1121.|"
       ]
      },
      {
       "output_type": "stream",
       "stream": "stdout",
       "text": [
        " 387:1134.|"
       ]
      },
      {
       "output_type": "stream",
       "stream": "stdout",
       "text": [
        " 386:1147.|"
       ]
      },
      {
       "output_type": "stream",
       "stream": "stdout",
       "text": [
        " 385:1159.|"
       ]
      },
      {
       "output_type": "stream",
       "stream": "stdout",
       "text": [
        " 384:1172.|"
       ]
      },
      {
       "output_type": "stream",
       "stream": "stdout",
       "text": [
        " 383:1185.|"
       ]
      },
      {
       "output_type": "stream",
       "stream": "stdout",
       "text": [
        " 382:1198.|"
       ]
      },
      {
       "output_type": "stream",
       "stream": "stdout",
       "text": [
        " 381:1212.|"
       ]
      },
      {
       "output_type": "stream",
       "stream": "stdout",
       "text": [
        " 380:1225.|"
       ]
      },
      {
       "output_type": "stream",
       "stream": "stdout",
       "text": [
        " 379:1239.|"
       ]
      },
      {
       "output_type": "stream",
       "stream": "stdout",
       "text": [
        " 378:1252.|"
       ]
      },
      {
       "output_type": "stream",
       "stream": "stdout",
       "text": [
        " 377:1265.|"
       ]
      },
      {
       "output_type": "stream",
       "stream": "stdout",
       "text": [
        " 376:1279.|"
       ]
      },
      {
       "output_type": "stream",
       "stream": "stdout",
       "text": [
        " 375:1292.|"
       ]
      },
      {
       "output_type": "stream",
       "stream": "stdout",
       "text": [
        " 374:1306.|"
       ]
      },
      {
       "output_type": "stream",
       "stream": "stdout",
       "text": [
        " 373:1320.|"
       ]
      },
      {
       "output_type": "stream",
       "stream": "stdout",
       "text": [
        " 372:1333.|"
       ]
      },
      {
       "output_type": "stream",
       "stream": "stdout",
       "text": [
        " 371:1347.|"
       ]
      },
      {
       "output_type": "stream",
       "stream": "stdout",
       "text": [
        " 370:1361.|"
       ]
      },
      {
       "output_type": "stream",
       "stream": "stdout",
       "text": [
        " 369:1375.|"
       ]
      },
      {
       "output_type": "stream",
       "stream": "stdout",
       "text": [
        " 368:1389.|"
       ]
      },
      {
       "output_type": "stream",
       "stream": "stdout",
       "text": [
        " 367:1403.|"
       ]
      },
      {
       "output_type": "stream",
       "stream": "stdout",
       "text": [
        " 366:1417.|"
       ]
      },
      {
       "output_type": "stream",
       "stream": "stdout",
       "text": [
        " 365:1431.|"
       ]
      },
      {
       "output_type": "stream",
       "stream": "stdout",
       "text": [
        " 364:1445.|"
       ]
      },
      {
       "output_type": "stream",
       "stream": "stdout",
       "text": [
        " 363:1459.|"
       ]
      },
      {
       "output_type": "stream",
       "stream": "stdout",
       "text": [
        " 362:1474.|"
       ]
      },
      {
       "output_type": "stream",
       "stream": "stdout",
       "text": [
        " 361:1488.|"
       ]
      },
      {
       "output_type": "stream",
       "stream": "stdout",
       "text": [
        " 360:1502.|"
       ]
      },
      {
       "output_type": "stream",
       "stream": "stdout",
       "text": [
        " 359:1517.|"
       ]
      },
      {
       "output_type": "stream",
       "stream": "stdout",
       "text": [
        " 358:1531.|"
       ]
      },
      {
       "output_type": "stream",
       "stream": "stdout",
       "text": [
        " 357:1546.|"
       ]
      },
      {
       "output_type": "stream",
       "stream": "stdout",
       "text": [
        " 356:1560.|"
       ]
      },
      {
       "output_type": "stream",
       "stream": "stdout",
       "text": [
        " 355:1575.|"
       ]
      },
      {
       "output_type": "stream",
       "stream": "stdout",
       "text": [
        " 354:1589.|"
       ]
      },
      {
       "output_type": "stream",
       "stream": "stdout",
       "text": [
        " 353:1604.|"
       ]
      },
      {
       "output_type": "stream",
       "stream": "stdout",
       "text": [
        " 352:1619.|"
       ]
      },
      {
       "output_type": "stream",
       "stream": "stdout",
       "text": [
        " 351:1634.|"
       ]
      },
      {
       "output_type": "stream",
       "stream": "stdout",
       "text": [
        " 350:1649.|"
       ]
      },
      {
       "output_type": "stream",
       "stream": "stdout",
       "text": [
        " 349:1664.|"
       ]
      },
      {
       "output_type": "stream",
       "stream": "stdout",
       "text": [
        " 348:1679.|"
       ]
      },
      {
       "output_type": "stream",
       "stream": "stdout",
       "text": [
        " 347:1694.|"
       ]
      },
      {
       "output_type": "stream",
       "stream": "stdout",
       "text": [
        " 346:1709.|"
       ]
      },
      {
       "output_type": "stream",
       "stream": "stdout",
       "text": [
        " 345:1724.|"
       ]
      },
      {
       "output_type": "stream",
       "stream": "stdout",
       "text": [
        " 344:1739.|"
       ]
      },
      {
       "output_type": "stream",
       "stream": "stdout",
       "text": [
        " 343:1754.|"
       ]
      },
      {
       "output_type": "stream",
       "stream": "stdout",
       "text": [
        " 342:1770.|"
       ]
      },
      {
       "output_type": "stream",
       "stream": "stdout",
       "text": [
        " 341:1785.|"
       ]
      },
      {
       "output_type": "stream",
       "stream": "stdout",
       "text": [
        " 340:1800.|"
       ]
      },
      {
       "output_type": "stream",
       "stream": "stdout",
       "text": [
        " 339:1816.|"
       ]
      },
      {
       "output_type": "stream",
       "stream": "stdout",
       "text": [
        " 338:1831.|"
       ]
      },
      {
       "output_type": "stream",
       "stream": "stdout",
       "text": [
        " 337:1847.|"
       ]
      },
      {
       "output_type": "stream",
       "stream": "stdout",
       "text": [
        " 336:1863.|"
       ]
      },
      {
       "output_type": "stream",
       "stream": "stdout",
       "text": [
        " 335:1878.|"
       ]
      },
      {
       "output_type": "stream",
       "stream": "stdout",
       "text": [
        " 334:1894.|"
       ]
      },
      {
       "output_type": "stream",
       "stream": "stdout",
       "text": [
        " 333:1910.|"
       ]
      },
      {
       "output_type": "stream",
       "stream": "stdout",
       "text": [
        " 332:1926.|"
       ]
      },
      {
       "output_type": "stream",
       "stream": "stdout",
       "text": [
        " 331:1942.|"
       ]
      },
      {
       "output_type": "stream",
       "stream": "stdout",
       "text": [
        " 330:1958.|"
       ]
      },
      {
       "output_type": "stream",
       "stream": "stdout",
       "text": [
        " 329:1973.|"
       ]
      },
      {
       "output_type": "stream",
       "stream": "stdout",
       "text": [
        " 328:1989.|"
       ]
      },
      {
       "output_type": "stream",
       "stream": "stdout",
       "text": [
        " 327:2005.|"
       ]
      },
      {
       "output_type": "stream",
       "stream": "stdout",
       "text": [
        " 326:2022.|"
       ]
      },
      {
       "output_type": "stream",
       "stream": "stdout",
       "text": [
        " 325:2038.|"
       ]
      },
      {
       "output_type": "stream",
       "stream": "stdout",
       "text": [
        " 324:2054.|"
       ]
      },
      {
       "output_type": "stream",
       "stream": "stdout",
       "text": [
        " 323:2071.|"
       ]
      },
      {
       "output_type": "stream",
       "stream": "stdout",
       "text": [
        " 322:2087.|"
       ]
      },
      {
       "output_type": "stream",
       "stream": "stdout",
       "text": [
        " 321:2104.|"
       ]
      },
      {
       "output_type": "stream",
       "stream": "stdout",
       "text": [
        " 320:2120.|"
       ]
      },
      {
       "output_type": "stream",
       "stream": "stdout",
       "text": [
        " 319:2137.|"
       ]
      },
      {
       "output_type": "stream",
       "stream": "stdout",
       "text": [
        " 318:2153.|"
       ]
      },
      {
       "output_type": "stream",
       "stream": "stdout",
       "text": [
        " 317:2170.|"
       ]
      },
      {
       "output_type": "stream",
       "stream": "stdout",
       "text": [
        " 316:2187.|"
       ]
      },
      {
       "output_type": "stream",
       "stream": "stdout",
       "text": [
        " 315:2204.|"
       ]
      },
      {
       "output_type": "stream",
       "stream": "stdout",
       "text": [
        " 314:2221.|"
       ]
      },
      {
       "output_type": "stream",
       "stream": "stdout",
       "text": [
        " 313:2238.|"
       ]
      },
      {
       "output_type": "stream",
       "stream": "stdout",
       "text": [
        " 312:2255.|"
       ]
      },
      {
       "output_type": "stream",
       "stream": "stdout",
       "text": [
        " 311:2272.|"
       ]
      },
      {
       "output_type": "stream",
       "stream": "stdout",
       "text": [
        " 310:2288.|"
       ]
      },
      {
       "output_type": "stream",
       "stream": "stdout",
       "text": [
        " 309:2306.|"
       ]
      },
      {
       "output_type": "stream",
       "stream": "stdout",
       "text": [
        " 308:2323.|"
       ]
      },
      {
       "output_type": "stream",
       "stream": "stdout",
       "text": [
        " 307:2340.|"
       ]
      },
      {
       "output_type": "stream",
       "stream": "stdout",
       "text": [
        " 306:2357.|"
       ]
      },
      {
       "output_type": "stream",
       "stream": "stdout",
       "text": [
        " 305:2375.|"
       ]
      },
      {
       "output_type": "stream",
       "stream": "stdout",
       "text": [
        " 304:2392.|"
       ]
      },
      {
       "output_type": "stream",
       "stream": "stdout",
       "text": [
        " 303:2410.|"
       ]
      },
      {
       "output_type": "stream",
       "stream": "stdout",
       "text": [
        " 302:2427.|"
       ]
      },
      {
       "output_type": "stream",
       "stream": "stdout",
       "text": [
        " 301:2445.|"
       ]
      },
      {
       "output_type": "stream",
       "stream": "stdout",
       "text": [
        " 300:2462.|"
       ]
      },
      {
       "output_type": "stream",
       "stream": "stdout",
       "text": [
        " 299:2480.|"
       ]
      },
      {
       "output_type": "stream",
       "stream": "stdout",
       "text": [
        " 298:2498.|"
       ]
      },
      {
       "output_type": "stream",
       "stream": "stdout",
       "text": [
        " 297:2516.|"
       ]
      },
      {
       "output_type": "stream",
       "stream": "stdout",
       "text": [
        " 296:2534.|"
       ]
      },
      {
       "output_type": "stream",
       "stream": "stdout",
       "text": [
        " 295:2552.|"
       ]
      },
      {
       "output_type": "stream",
       "stream": "stdout",
       "text": [
        " 294:2570.|"
       ]
      },
      {
       "output_type": "stream",
       "stream": "stdout",
       "text": [
        " 293:2588.|"
       ]
      },
      {
       "output_type": "stream",
       "stream": "stdout",
       "text": [
        " 292:2606.|"
       ]
      },
      {
       "output_type": "stream",
       "stream": "stdout",
       "text": [
        " 291:2624.|"
       ]
      },
      {
       "output_type": "stream",
       "stream": "stdout",
       "text": [
        " 290:2643.|"
       ]
      },
      {
       "output_type": "stream",
       "stream": "stdout",
       "text": [
        " 289:2661.|"
       ]
      },
      {
       "output_type": "stream",
       "stream": "stdout",
       "text": [
        " 288:2680.|"
       ]
      },
      {
       "output_type": "stream",
       "stream": "stdout",
       "text": [
        " 287:2698.|"
       ]
      },
      {
       "output_type": "stream",
       "stream": "stdout",
       "text": [
        " 286:2717.|"
       ]
      },
      {
       "output_type": "stream",
       "stream": "stdout",
       "text": [
        " 285:2735.|"
       ]
      },
      {
       "output_type": "stream",
       "stream": "stdout",
       "text": [
        " 284:2754.|"
       ]
      },
      {
       "output_type": "stream",
       "stream": "stdout",
       "text": [
        " 283:2773.|"
       ]
      }
     ]
    },
    {
     "cell_type": "code",
     "collapsed": false,
     "input": [
      "\n",
      "clf_rf = RandomForestClassifier(n_estimators=100, n_jobs=-1)\n",
      "clf_rf.fit(X_train, y_train)\n",
      "\n",
      "probs_rf = clf_rf.predict_proba(X_val)\n",
      "l_rf = log_loss(y_val, probs_rf)\n",
      "print l_rf"
     ],
     "language": "python",
     "metadata": {},
     "outputs": [
      {
       "output_type": "stream",
       "stream": "stdout",
       "text": [
        "0.656524963907\n"
       ]
      }
     ],
     "prompt_number": 81
    },
    {
     "cell_type": "code",
     "collapsed": false,
     "input": [
      "pca = PCA(n_components=50).fit(X_all0)"
     ],
     "language": "python",
     "metadata": {},
     "outputs": [],
     "prompt_number": 74
    },
    {
     "cell_type": "code",
     "collapsed": false,
     "input": [
      "from sklearn.neighbors import KNeighborsClassifier\n",
      "clf_knn = KNeighborsClassifier()\n",
      "clf_knn.fit(pca.transform(X_train), y_train)\n",
      "\n",
      "probs_knn = clf_knn.predict_proba(pca.transform(X_val))\n",
      "l_knn= log_loss(y_val, probs_knn)\n",
      "print l_knn"
     ],
     "language": "python",
     "metadata": {},
     "outputs": [
      {
       "output_type": "stream",
       "stream": "stdout",
       "text": [
        "2.79550236593\n"
       ]
      }
     ],
     "prompt_number": 75
    },
    {
     "cell_type": "code",
     "collapsed": false,
     "input": [
      "clf_rf.get_params()['n_estimators']\n"
     ],
     "language": "python",
     "metadata": {},
     "outputs": [
      {
       "metadata": {},
       "output_type": "pyout",
       "prompt_number": 87,
       "text": [
        "100"
       ]
      }
     ],
     "prompt_number": 87
    }
   ],
   "metadata": {}
  }
 ]
}