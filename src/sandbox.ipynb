{
 "metadata": {
  "name": "",
  "signature": "sha256:ec83fbaea359e4927c70727ab4cba4670b1045572cd17721d7acd9f547526bcd"
 },
 "nbformat": 3,
 "nbformat_minor": 0,
 "worksheets": [
  {
   "cells": [
    {
     "cell_type": "code",
     "collapsed": false,
     "input": [
      "import matplotlib.pyplot as plt\n",
      "%matplotlib inline\n",
      "\n",
      "import io_tools as iot\n",
      "import os\n",
      "import numpy as np\n",
      "from collections import OrderedDict\n",
      "from time import time\n",
      "import plyvel\n",
      "from caffe import io\n",
      "import sys\n",
      "\n",
      "from sklearn.base import TransformerMixin, BaseEstimator\n",
      "from sklearn.decomposition import FactorAnalysis\n",
      "from sklearn.decomposition import PCA\n",
      "from sklearn.preprocessing import StandardScaler\n",
      "from sklearn.preprocessing import MinMaxScaler\n",
      "from sklearn.pipeline import Pipeline, make_pipeline, FeatureUnion, make_union\n",
      "from sklearn.feature_extraction.text import TfidfTransformer\n",
      "sys.path.append('/afs/ee.cooper.edu/user/t/a/tam8/documents/py-sparse-filtering/')\n",
      "import sparseFiltering as SF\n",
      "from sklearn.linear_model import LogisticRegression\n",
      "from sklearn.ensemble import ExtraTreesClassifier\n",
      "from sklearn.ensemble import RandomForestClassifier\n",
      "\n",
      "from sklearn.cross_validation import StratifiedKFold\n",
      "\n",
      "# DATA_DIR = iot.DATA_DIR\n",
      "DATA_DIR = '/media/raid_arr/data/otto/data/'\n",
      "DB_OUT_TRAIN = os.path.join(DATA_DIR, 'train_lvl')\n",
      "DB_OUT_TEST = os.path.join(DATA_DIR, 'test_lvl')\n",
      "DB_OUT_ALL = os.path.join(DATA_DIR, 'all_lvl')\n",
      "DB_OUT_ALL0 = os.path.join(DATA_DIR, 'all0_lvl')"
     ],
     "language": "python",
     "metadata": {},
     "outputs": [],
     "prompt_number": 1
    },
    {
     "cell_type": "heading",
     "level": 2,
     "metadata": {},
     "source": [
      "Load Raw-ish Data"
     ]
    },
    {
     "cell_type": "code",
     "collapsed": false,
     "input": [
      "try:\n",
      "    ids_train, feats_train, labels_train\n",
      "except NameError:\n",
      "    ids_train = np.load(os.path.join(iot.DATA_DIR, 'train_ids.npy'))\n",
      "    feats_train = np.load(os.path.join(iot.DATA_DIR, 'train_feats.npy')).astype(float)\n",
      "    labels_train = np.load(os.path.join(iot.DATA_DIR, 'train_labels_enc.npy'))\n",
      "\n",
      "try:\n",
      "    ids_test, feats_test\n",
      "except NameError:\n",
      "    ids_test = np.load(os.path.join(iot.DATA_DIR, 'test_ids.npy'))\n",
      "    feats_test = np.load(os.path.join(iot.DATA_DIR, 'test_feats.npy')).astype(float)   \n",
      "    \n",
      "skf = StratifiedKFold(labels_train, n_folds=5, shuffle=True)\n",
      "# All\n",
      "feats_all = np.r_[feats_train, feats_test]\n",
      "labels_all = np.r_[labels_train, -1*np.ones(len(ids_test))].astype(int)\n",
      "\n",
      "# All minus test0\n",
      "train_ind, val_ind = iter(skf).next()\n",
      "feats_all0 = np.r_[feats_train[train_ind, :], feats_test]\n",
      "labels_all0 = np.r_[labels_train[train_ind], -1*np.ones(len(ids_test))].astype(int)\n",
      "\n",
      "\n",
      "feats_fold_train = feats_train[train_ind, :]\n",
      "labels_fold_train = labels_train[train_ind]\n",
      "feats_fold_val = feats_train[val_ind, :]\n",
      "labels_fold_val = labels_train[val_ind]\n"
     ],
     "language": "python",
     "metadata": {},
     "outputs": [],
     "prompt_number": 2
    },
    {
     "cell_type": "code",
     "collapsed": false,
     "input": [
      "class FitlessMixin(TransformerMixin):\n",
      "    def fit_transform(self, X, y=None, **fit_params):\n",
      "        self.fit(X, y, **fit_params)\n",
      "        return self.transform(X)\n",
      "\n",
      "    def fit(self, X, y=None, **fit_params):\n",
      "        return self\n",
      "\n",
      "class IdentityTformer(FitlessMixin):\n",
      "    def transform(self, X, y=None, **fit_params):\n",
      "        return X\n",
      "    \n",
      "class DenseTformer(FitlessMixin):\n",
      "    def transform(self, X, y=None, **fit_params):\n",
      "        return X.todense()\n",
      "    \n",
      "class LogTformer(FitlessMixin):\n",
      "    def transform(self, X, y=None, **fit_params):\n",
      "        return np.log(X+1)\n",
      "\n",
      "class NzTformer(FitlessMixin):\n",
      "    def transform(self, X, y=None, **fit_params):\n",
      "        return np.apply_along_axis(func1d=np.count_nonzero, \n",
      "                                   axis=1, arr=X)[:, None]\n",
      "    \n",
      "class NzvarTformer(FitlessMixin):\n",
      "    def transform(self, X, y=None, **fit_params):\n",
      "        ret = np.apply_along_axis(func1d=lambda r: np.var(r[np.nonzero(r)]), \n",
      "                                   axis=1, arr=X)[:, None]\n",
      "        ret[np.isnan(ret)] = 0\n",
      "        return ret\n",
      "    \n",
      "class NzmeanTformer(FitlessMixin):\n",
      "    def transform(self, X, y=None, **fit_params):\n",
      "        ret = np.apply_along_axis(func1d=lambda r: np.mean(r[np.nonzero(r)]), \n",
      "                                   axis=1, arr=X)[:, None]\n",
      "        ret[np.isnan(ret)] = 0\n",
      "        return ret\n",
      " \n",
      "\n",
      "    "
     ],
     "language": "python",
     "metadata": {},
     "outputs": [],
     "prompt_number": 3
    },
    {
     "cell_type": "code",
     "collapsed": false,
     "input": [
      "pipe = make_pipeline(\n",
      "                    TfidfTransformer(norm=u'l2', \n",
      "                                      use_idf=True, \n",
      "                                      smooth_idf=True, \n",
      "                                      sublinear_tf=True),\n",
      "                     DenseTformer(),\n",
      "                     make_union(\n",
      "                                IdentityTformer(),\n",
      "#                                 FactorAnalysis(n_components=74),\n",
      "#                                 PCA(n_components=20, whiten=True),\n",
      "                                NzTformer(),\n",
      "                                NzvarTformer(),\n",
      "                                NzmeanTformer(),\n",
      "                     ),\n",
      "                     StandardScaler(),\n",
      "#                      MinMaxScaler(),\n",
      "                     )"
     ],
     "language": "python",
     "metadata": {},
     "outputs": [],
     "prompt_number": 4
    },
    {
     "cell_type": "heading",
     "level": 2,
     "metadata": {},
     "source": [
      "LESGO"
     ]
    },
    {
     "cell_type": "code",
     "collapsed": false,
     "input": [
      "pipe.fit(feats_all)"
     ],
     "language": "python",
     "metadata": {},
     "outputs": [
      {
       "output_type": "stream",
       "stream": "stderr",
       "text": [
        "/usr/lib/python2.7/site-packages/numpy/core/_methods.py:83: RuntimeWarning: Degrees of freedom <= 0 for slice\n",
        "  warnings.warn(\"Degrees of freedom <= 0 for slice\", RuntimeWarning)\n",
        "/usr/lib/python2.7/site-packages/numpy/core/_methods.py:95: RuntimeWarning: invalid value encountered in true_divide\n",
        "  arrmean, rcount, out=arrmean, casting='unsafe', subok=False)\n",
        "/usr/lib/python2.7/site-packages/numpy/core/_methods.py:117: RuntimeWarning: invalid value encountered in double_scalars\n",
        "  ret = ret.dtype.type(ret / rcount)\n",
        "/usr/lib/python2.7/site-packages/numpy/core/_methods.py:59: RuntimeWarning: Mean of empty slice.\n",
        "  warnings.warn(\"Mean of empty slice.\", RuntimeWarning)\n"
       ]
      },
      {
       "output_type": "stream",
       "stream": "stderr",
       "text": [
        "/usr/lib/python2.7/site-packages/numpy/core/_methods.py:71: RuntimeWarning: invalid value encountered in double_scalars\n",
        "  ret = ret.dtype.type(ret / rcount)\n"
       ]
      },
      {
       "metadata": {},
       "output_type": "pyout",
       "prompt_number": 5,
       "text": [
        "Pipeline(steps=[('tfidftransformer', TfidfTransformer(norm=u'l2', smooth_idf=True, sublinear_tf=True, use_idf=True)), ('densetformer', <__main__.DenseTformer object at 0x7f8c1ae0cb10>), ('featureunion', FeatureUnion(n_jobs=1,\n",
        "       transformer_list=[('identitytformer', <__main__.IdentityTformer object at 0x...former_weights=None)), ('standardscaler', StandardScaler(copy=True, with_mean=True, with_std=True))])"
       ]
      }
     ],
     "prompt_number": 5
    },
    {
     "cell_type": "code",
     "collapsed": false,
     "input": [
      "feats_all.shape"
     ],
     "language": "python",
     "metadata": {},
     "outputs": [
      {
       "metadata": {},
       "output_type": "pyout",
       "prompt_number": 6,
       "text": [
        "(206246, 93)"
       ]
      }
     ],
     "prompt_number": 6
    },
    {
     "cell_type": "code",
     "collapsed": false,
     "input": [
      "import numpy as np\n",
      "from sklearn.base import BaseEstimator\n",
      "from sklearn.base import ClassifierMixin\n",
      "from sklearn.utils.validation import check_X_y, check_is_fitted\n",
      "from sklearn.semi_supervised import LabelSpreading\n",
      "from inspect import getargspec\n",
      "\n",
      "from joblib import Parallel, delayed\n",
      "import multiprocessing\n",
      "num_cores = multiprocessing.cpu_count()\n",
      "\n",
      "\n",
      "class Cotrain(BaseEstimator, ClassifierMixin):\n",
      "    def __init__(self, h, max_iters=500, u_subsize=-1, conf_thresh=0.5, n_est_incr=0):\n",
      "        \"\"\"\n",
      "        Parameters\n",
      "        ----------\n",
      "        h: iterable of classifiers (only 2 supported for now)\n",
      "            make sure the estimators can `predict_proba`\n",
      "        max_iters: max number of unlabeled samples to add divided by 2\n",
      "        u_subsize: number of unlabeled samples to consider\n",
      "        conf_thresh: min confidence to add to training\n",
      "        n_est_incr: number of additional estimators to create (for warm start RF)\n",
      "        \"\"\"\n",
      "        self.h = h\n",
      "        self.max_iter = max_iters\n",
      "        self.n_iter_ = 0\n",
      "        self.u_subsize = u_subsize\n",
      "        self.conf_thresh = conf_thresh\n",
      "        self.L_X = None\n",
      "        self.L_y = None\n",
      "        \n",
      "        self.n_est_incr = n_est_incr\n",
      "\n",
      "    def predict_proba(self, X):\n",
      "        \"\"\"Predict probability for each possible outcome.\n",
      "\n",
      "        Compute the probability estimates for each single sample in X\n",
      "        and each possible outcome seen during training (categorical\n",
      "        distribution).\n",
      "\n",
      "        Parameters\n",
      "        ----------\n",
      "        X : array_like, shape = [n_samples, n_features]\n",
      "\n",
      "        Returns\n",
      "        -------\n",
      "        probabilities : array, shape = [n_samples, n_classes]\n",
      "            Normalized probability distributions across\n",
      "            class labels\n",
      "        \"\"\"\n",
      "        check_is_fitted(self, 'X_')\n",
      "\n",
      "        # proba1 = self.h[0].predict_proba(X)\n",
      "        # proba2 = self.h[1].predict_proba(X)\n",
      "        # probabilities = 0.5 * (proba1 + proba2)\n",
      "        probabilities = np.average(np.array([\n",
      "            h.predict_proba(X) for h in self.h\n",
      "        ]), axis=0, weights=None)\n",
      "        return probabilities\n",
      "\n",
      "    def predict(self, X):\n",
      "        \"\"\"\n",
      "        Parameters\n",
      "        ----------\n",
      "        X : array_like, shape = [n_samples, n_features]\n",
      "\n",
      "        Returns\n",
      "        -------\n",
      "        y : array_like, shape = [n_samples]\n",
      "            Predictions for input data\n",
      "        \"\"\"\n",
      "        probas = self.predict_proba(X)\n",
      "        return self.classes_[np.argmax(probas, axis=1)].ravel()\n",
      "\n",
      "    def fit(self, X, y):\n",
      "        \"\"\"Fit a semi-supervised co-training model\n",
      "\n",
      "        All the input data is provided matrix X (labeled and unlabeled)\n",
      "        and corresponding label matrix y with a dedicated marker value for\n",
      "        unlabeled samples.\n",
      "\n",
      "        Parameters\n",
      "        ----------\n",
      "        X : array-like, shape = [n_samples, n_features]\n",
      "            A {n_samples by n_samples} size matrix will be created from this\n",
      "\n",
      "        y : array_like, shape = [n_samples]\n",
      "            n_labeled_samples (unlabeled points are marked as -1)\n",
      "            All unlabeled samples will be transductively assigned labels\n",
      "\n",
      "        Returns\n",
      "        -------\n",
      "        self : returns an instance of self.\n",
      "        \"\"\"\n",
      "        tic = time()\n",
      "        X, y = check_X_y(X, y)\n",
      "        self.X_ = X\n",
      "\n",
      "        # label construction\n",
      "        # construct a categorical distribution for classification only\n",
      "        classes = np.unique(y)\n",
      "        classes = (classes[classes != -1])\n",
      "        self.classes_ = classes\n",
      "\n",
      "        n_samples, n_classes = len(y), len(classes)\n",
      "\n",
      "        y = np.asarray(y)\n",
      "        unlabeled = y == -1\n",
      "        labeled = y != -1\n",
      "\n",
      "        # Separate L pools\n",
      "        self.L_X = [X[labeled, :]] * len(self.h)\n",
      "        self.L_y = [y[labeled]] * len(self.h)\n",
      "\n",
      "        # Shared U pool\n",
      "        U_X = X[unlabeled, :]\n",
      "        if self.u_subsize > 0:  # subset of unlabeled pts\n",
      "            U_X = U_X[np.random.permutation(\n",
      "                np.arange(len(U_X)))[:self.u_subsize], :]\n",
      "        else:\n",
      "            np.random.shuffle(U_X)\n",
      "\n",
      "        # Initial fit\n",
      "        # todo: unless they were already fitted\n",
      "        for ii, h_i in enumerate(self.h):\n",
      "            h_i.fit(self.L_X[ii], self.L_y[ii])\n",
      "\n",
      "        remaining_iter = self.max_iter\n",
      "        pi = [None for ii in range(len(self.h))]   # pts to add\n",
      "        # left open for convergence criterion\n",
      "        # or if no unlabeled probs are > some cutoff (~90%?)\n",
      "        while remaining_iter > 1 and \\\n",
      "                U_X.shape[0]:\n",
      "            toc = time() - tic\n",
      "            print str(remaining_iter) + ':' + str(toc)[:5] + '|\\t',\n",
      "            sys.stdout.flush()\n",
      "            # Cant parallelize this\n",
      "            for ii, h in enumerate(self.h):\n",
      "                proba = h.predict_proba(U_X)\n",
      "                # Can add the winner of each class\n",
      "                # but for now, just add the biggest winner to its class\n",
      "                if proba.max() > self.conf_thresh:\n",
      "                    ind_top = np.argmax(proba.max(axis=1))\n",
      "                    x_top = U_X[ind_top, :]\n",
      "                    y_top = h.predict(x_top)    # or just argmax the proba\n",
      "                    pi[ii] = (x_top[None, :], y_top)\n",
      "                    U_X = np.delete(U_X, ind_top, axis=0)    # Remove pt from set\n",
      "                else:\n",
      "                    pi[ii] = None\n",
      "\n",
      "            change_flag = False\n",
      "            # CAN parallelize this\n",
      "            for ii in range(len(self.h)):\n",
      "                if pi[ii]:\n",
      "                    # Add new pt to the OTHER estimator's training\n",
      "                    jj = (ii + 1) % 2\n",
      "                    self.L_X[jj] = np.append(self.L_X[jj], pi[ii][0], axis=0)\n",
      "                    self.L_y[jj] = np.append(self.L_y[jj], pi[ii][1])\n",
      "                    \n",
      "                    if self.n_est_incr and 'warm_start' in self.h[jj].get_params().keys() and self.h[jj].get_params()['warm_start']:\n",
      "                        new_n_est = self.h[jj].get_params()['n_estimators'] + self.n_est_incr\n",
      "                        self.h[jj].set_params(n_estimators=new_n_est)\n",
      "                    \n",
      "                    self.h[jj].fit(self.L_X[jj], self.L_y[jj])\n",
      "                    change_flag = True\n",
      "\n",
      "            if change_flag:\n",
      "                # Replenish U_x with more samples\n",
      "                # screw it\n",
      "                pass\n",
      "            else:\n",
      "                # If neither estimator is updated, it's over\n",
      "                break\n",
      "\n",
      "            remaining_iter -= 1\n",
      "\n",
      "        self.n_iter_ = self.max_iter - remaining_iter\n",
      "        return self\n"
     ],
     "language": "python",
     "metadata": {},
     "outputs": [],
     "prompt_number": 6
    },
    {
     "cell_type": "code",
     "collapsed": false,
     "input": [
      "\n",
      "\n",
      "X_train = pipe.transform(feats_fold_train)\n",
      "y_train = labels_fold_train\n",
      "\n",
      "X_all0 = pipe.transform(feats_all0)\n",
      "y_all0 = labels_all0\n",
      "\n",
      "X_val = pipe.transform(feats_fold_val)\n",
      "y_val = labels_fold_val\n",
      "\n",
      "\n"
     ],
     "language": "python",
     "metadata": {},
     "outputs": [],
     "prompt_number": 7
    },
    {
     "cell_type": "code",
     "collapsed": false,
     "input": [
      "from sklearn.metrics import log_loss\n",
      "lr = LogisticRegression()\n",
      "\n",
      "lr.fit(X_train, y_train)\n",
      "probs = lr.predict_proba(X_val)\n",
      "l = log_loss(y_val, probs)\n",
      "\n",
      "print l\n"
     ],
     "language": "python",
     "metadata": {},
     "outputs": [
      {
       "output_type": "stream",
       "stream": "stdout",
       "text": [
        "0.670657801371\n"
       ]
      }
     ],
     "prompt_number": 8
    },
    {
     "cell_type": "code",
     "collapsed": false,
     "input": [
      "from sklearn.ensemble import RandomForestClassifier\n",
      "\n",
      "# clf1 = LogisticRegression()\n",
      "# clf2 = LogisticRegression()\n",
      "\n",
      "clf1 = RandomForestClassifier(n_estimators=100, warm_start=True, n_jobs=-1)\n",
      "clf2 = RandomForestClassifier(n_estimators=100, warm_start=True, n_jobs=-1)\n",
      "\n",
      "cot = Cotrain([clf1, clf2], \n",
      "              max_iters=500, u_subsize=-1, conf_thresh=0.5, n_est_incr=1)\n",
      "tic = time()\n",
      "cot.fit(X_all0, y_all0)\n",
      "\n",
      "probs_cot = cot.predict_proba(X_val)\n",
      "l_cot = log_loss(y_val, probs_cot)\n",
      "\n",
      "toc = time() - tic\n",
      "\n",
      "print '------------'\n",
      "print l_cot\n",
      "\n",
      "print toc, ' sec'"
     ],
     "language": "python",
     "metadata": {},
     "outputs": [
      {
       "output_type": "stream",
       "stream": "stdout",
       "text": [
        "500:13.20|"
       ]
      },
      {
       "output_type": "stream",
       "stream": "stdout",
       "text": [
        " 499:20.34|"
       ]
      },
      {
       "output_type": "stream",
       "stream": "stdout",
       "text": [
        " 498:27.39|"
       ]
      },
      {
       "output_type": "stream",
       "stream": "stdout",
       "text": [
        " 497:34.47|"
       ]
      },
      {
       "output_type": "stream",
       "stream": "stdout",
       "text": [
        " 496:41.71|"
       ]
      },
      {
       "output_type": "stream",
       "stream": "stdout",
       "text": [
        " 495:48.81|"
       ]
      },
      {
       "output_type": "stream",
       "stream": "stdout",
       "text": [
        " 494:56.01|"
       ]
      },
      {
       "output_type": "stream",
       "stream": "stdout",
       "text": [
        " 493:63.16|"
       ]
      },
      {
       "output_type": "stream",
       "stream": "stdout",
       "text": [
        " 492:70.29|"
       ]
      },
      {
       "output_type": "stream",
       "stream": "stdout",
       "text": [
        " 491:77.89|"
       ]
      },
      {
       "output_type": "stream",
       "stream": "stdout",
       "text": [
        " 490:85.32|"
       ]
      },
      {
       "output_type": "stream",
       "stream": "stdout",
       "text": [
        " 489:92.93|"
       ]
      },
      {
       "output_type": "stream",
       "stream": "stdout",
       "text": [
        " 488:100.4|"
       ]
      },
      {
       "output_type": "stream",
       "stream": "stdout",
       "text": [
        " 487:108.0|"
       ]
      },
      {
       "output_type": "stream",
       "stream": "stdout",
       "text": [
        " 486:115.5|"
       ]
      },
      {
       "output_type": "stream",
       "stream": "stdout",
       "text": [
        " 485:123.2|"
       ]
      },
      {
       "output_type": "stream",
       "stream": "stdout",
       "text": [
        " 484:130.8|"
       ]
      },
      {
       "output_type": "stream",
       "stream": "stdout",
       "text": [
        " 483:138.3|"
       ]
      },
      {
       "output_type": "stream",
       "stream": "stdout",
       "text": [
        " 482:146.2|"
       ]
      },
      {
       "output_type": "stream",
       "stream": "stdout",
       "text": [
        " 481:154.0|"
       ]
      },
      {
       "output_type": "stream",
       "stream": "stdout",
       "text": [
        " 480:161.8|"
       ]
      },
      {
       "output_type": "stream",
       "stream": "stdout",
       "text": [
        " 479:169.7|"
       ]
      },
      {
       "output_type": "stream",
       "stream": "stdout",
       "text": [
        " 478:177.9|"
       ]
      },
      {
       "output_type": "stream",
       "stream": "stdout",
       "text": [
        " 477:186.3|"
       ]
      },
      {
       "output_type": "stream",
       "stream": "stdout",
       "text": [
        " 476:194.3|"
       ]
      },
      {
       "output_type": "stream",
       "stream": "stdout",
       "text": [
        " 475:202.4|"
       ]
      },
      {
       "output_type": "stream",
       "stream": "stdout",
       "text": [
        " 474:210.7|"
       ]
      },
      {
       "output_type": "stream",
       "stream": "stdout",
       "text": [
        " 473:219.0|"
       ]
      },
      {
       "output_type": "stream",
       "stream": "stdout",
       "text": [
        " 472:227.4|"
       ]
      },
      {
       "output_type": "stream",
       "stream": "stdout",
       "text": [
        " 471:235.6|"
       ]
      },
      {
       "output_type": "stream",
       "stream": "stdout",
       "text": [
        " 470:244.2|"
       ]
      },
      {
       "output_type": "stream",
       "stream": "stdout",
       "text": [
        " 469:252.6|"
       ]
      },
      {
       "output_type": "stream",
       "stream": "stdout",
       "text": [
        " 468:261.3|"
       ]
      },
      {
       "output_type": "stream",
       "stream": "stdout",
       "text": [
        " 467:270.0|"
       ]
      },
      {
       "output_type": "stream",
       "stream": "stdout",
       "text": [
        " 466:278.5|"
       ]
      },
      {
       "output_type": "stream",
       "stream": "stdout",
       "text": [
        " 465:287.1|"
       ]
      },
      {
       "output_type": "stream",
       "stream": "stdout",
       "text": [
        " 464:296.0|"
       ]
      },
      {
       "output_type": "stream",
       "stream": "stdout",
       "text": [
        " 463:304.8|"
       ]
      },
      {
       "output_type": "stream",
       "stream": "stdout",
       "text": [
        " 462:313.8|"
       ]
      },
      {
       "output_type": "stream",
       "stream": "stdout",
       "text": [
        " 461:322.8|"
       ]
      },
      {
       "output_type": "stream",
       "stream": "stdout",
       "text": [
        " 460:331.7|"
       ]
      },
      {
       "output_type": "stream",
       "stream": "stdout",
       "text": [
        " 459:340.9|"
       ]
      },
      {
       "output_type": "stream",
       "stream": "stdout",
       "text": [
        " 458:350.0|"
       ]
      },
      {
       "output_type": "stream",
       "stream": "stdout",
       "text": [
        " 457:359.2|"
       ]
      },
      {
       "output_type": "stream",
       "stream": "stdout",
       "text": [
        " 456:368.7|"
       ]
      },
      {
       "output_type": "stream",
       "stream": "stdout",
       "text": [
        " 455:378.0|"
       ]
      },
      {
       "output_type": "stream",
       "stream": "stdout",
       "text": [
        " 454:387.3|"
       ]
      },
      {
       "output_type": "stream",
       "stream": "stdout",
       "text": [
        " 453:396.7|"
       ]
      },
      {
       "output_type": "stream",
       "stream": "stdout",
       "text": [
        " 452:406.1|"
       ]
      },
      {
       "output_type": "stream",
       "stream": "stdout",
       "text": [
        " 451:415.7|"
       ]
      },
      {
       "output_type": "stream",
       "stream": "stdout",
       "text": [
        " 450:425.2|"
       ]
      },
      {
       "output_type": "stream",
       "stream": "stdout",
       "text": [
        " 449:434.8|"
       ]
      },
      {
       "output_type": "stream",
       "stream": "stdout",
       "text": [
        " 448:444.4|"
       ]
      },
      {
       "output_type": "stream",
       "stream": "stdout",
       "text": [
        " 447:454.0|"
       ]
      },
      {
       "output_type": "stream",
       "stream": "stdout",
       "text": [
        " 446:463.8|"
       ]
      },
      {
       "output_type": "stream",
       "stream": "stdout",
       "text": [
        " 445:473.7|"
       ]
      },
      {
       "output_type": "stream",
       "stream": "stdout",
       "text": [
        " 444:483.8|"
       ]
      },
      {
       "output_type": "stream",
       "stream": "stdout",
       "text": [
        " 443:493.7|"
       ]
      },
      {
       "output_type": "stream",
       "stream": "stdout",
       "text": [
        " 442:503.9|"
       ]
      },
      {
       "output_type": "stream",
       "stream": "stdout",
       "text": [
        " 441:513.9|"
       ]
      },
      {
       "output_type": "stream",
       "stream": "stdout",
       "text": [
        " 440:524.0|"
       ]
      },
      {
       "output_type": "stream",
       "stream": "stdout",
       "text": [
        " 439:534.1|"
       ]
      },
      {
       "output_type": "stream",
       "stream": "stdout",
       "text": [
        " 438:544.2|"
       ]
      },
      {
       "output_type": "stream",
       "stream": "stdout",
       "text": [
        " 437:554.4|"
       ]
      },
      {
       "output_type": "stream",
       "stream": "stdout",
       "text": [
        " 436:564.7|"
       ]
      },
      {
       "output_type": "stream",
       "stream": "stdout",
       "text": [
        " 435:574.9|"
       ]
      },
      {
       "output_type": "stream",
       "stream": "stdout",
       "text": [
        " 434:585.4|"
       ]
      },
      {
       "output_type": "stream",
       "stream": "stdout",
       "text": [
        " 433:595.8|"
       ]
      },
      {
       "output_type": "stream",
       "stream": "stdout",
       "text": [
        " 432:606.1|"
       ]
      },
      {
       "output_type": "stream",
       "stream": "stdout",
       "text": [
        " 431:616.6|"
       ]
      },
      {
       "output_type": "stream",
       "stream": "stdout",
       "text": [
        " 430:627.3|"
       ]
      },
      {
       "output_type": "stream",
       "stream": "stdout",
       "text": [
        " 429:637.9|"
       ]
      },
      {
       "output_type": "stream",
       "stream": "stdout",
       "text": [
        " 428:648.7|"
       ]
      },
      {
       "output_type": "stream",
       "stream": "stdout",
       "text": [
        " 427:659.5|"
       ]
      },
      {
       "output_type": "stream",
       "stream": "stdout",
       "text": [
        " 426:670.3|"
       ]
      },
      {
       "output_type": "stream",
       "stream": "stdout",
       "text": [
        " 425:681.1|"
       ]
      },
      {
       "output_type": "stream",
       "stream": "stdout",
       "text": [
        " 424:692.1|"
       ]
      },
      {
       "output_type": "stream",
       "stream": "stdout",
       "text": [
        " 423:703.0|"
       ]
      },
      {
       "output_type": "stream",
       "stream": "stdout",
       "text": [
        " 422:714.0|"
       ]
      },
      {
       "output_type": "stream",
       "stream": "stdout",
       "text": [
        " 421:725.2|"
       ]
      },
      {
       "output_type": "stream",
       "stream": "stdout",
       "text": [
        " 420:736.5|"
       ]
      },
      {
       "output_type": "stream",
       "stream": "stdout",
       "text": [
        " 419:747.6|"
       ]
      },
      {
       "output_type": "stream",
       "stream": "stdout",
       "text": [
        " 418:758.9|"
       ]
      },
      {
       "output_type": "stream",
       "stream": "stdout",
       "text": [
        " 417:770.1|"
       ]
      },
      {
       "output_type": "stream",
       "stream": "stdout",
       "text": [
        " 416:781.5|"
       ]
      },
      {
       "output_type": "stream",
       "stream": "stdout",
       "text": [
        " 415:793.0|"
       ]
      },
      {
       "output_type": "stream",
       "stream": "stdout",
       "text": [
        " 414:804.6|"
       ]
      },
      {
       "output_type": "stream",
       "stream": "stdout",
       "text": [
        " 413:816.2|"
       ]
      },
      {
       "output_type": "stream",
       "stream": "stdout",
       "text": [
        " 412:827.7|"
       ]
      },
      {
       "output_type": "stream",
       "stream": "stdout",
       "text": [
        " 411:839.3|"
       ]
      },
      {
       "output_type": "stream",
       "stream": "stdout",
       "text": [
        " 410:851.0|"
       ]
      },
      {
       "output_type": "stream",
       "stream": "stdout",
       "text": [
        " 409:862.6|"
       ]
      },
      {
       "output_type": "stream",
       "stream": "stdout",
       "text": [
        " 408:874.3|"
       ]
      },
      {
       "output_type": "stream",
       "stream": "stdout",
       "text": [
        " 407:885.9|"
       ]
      },
      {
       "output_type": "stream",
       "stream": "stdout",
       "text": [
        " 406:897.8|"
       ]
      },
      {
       "output_type": "stream",
       "stream": "stdout",
       "text": [
        " 405:909.8|"
       ]
      },
      {
       "output_type": "stream",
       "stream": "stdout",
       "text": [
        " 404:921.9|"
       ]
      },
      {
       "output_type": "stream",
       "stream": "stdout",
       "text": [
        " 403:933.9|"
       ]
      },
      {
       "output_type": "stream",
       "stream": "stdout",
       "text": [
        " 402:946.1|"
       ]
      },
      {
       "output_type": "stream",
       "stream": "stdout",
       "text": [
        " 401:958.6|"
       ]
      },
      {
       "output_type": "stream",
       "stream": "stdout",
       "text": [
        " 400:970.9|"
       ]
      },
      {
       "output_type": "stream",
       "stream": "stdout",
       "text": [
        " 399:983.2|"
       ]
      },
      {
       "output_type": "stream",
       "stream": "stdout",
       "text": [
        " 398:995.5|"
       ]
      },
      {
       "output_type": "stream",
       "stream": "stdout",
       "text": [
        " 397:1007.|"
       ]
      },
      {
       "output_type": "stream",
       "stream": "stdout",
       "text": [
        " 396:1020.|"
       ]
      },
      {
       "output_type": "stream",
       "stream": "stdout",
       "text": [
        " 395:1033.|"
       ]
      },
      {
       "output_type": "stream",
       "stream": "stdout",
       "text": [
        " 394:1045.|"
       ]
      },
      {
       "output_type": "stream",
       "stream": "stdout",
       "text": [
        " 393:1057.|"
       ]
      },
      {
       "output_type": "stream",
       "stream": "stdout",
       "text": [
        " 392:1070.|"
       ]
      },
      {
       "output_type": "stream",
       "stream": "stdout",
       "text": [
        " 391:1083.|"
       ]
      },
      {
       "output_type": "stream",
       "stream": "stdout",
       "text": [
        " 390:1095.|"
       ]
      },
      {
       "output_type": "stream",
       "stream": "stdout",
       "text": [
        " 389:1108.|"
       ]
      },
      {
       "output_type": "stream",
       "stream": "stdout",
       "text": [
        " 388:1121.|"
       ]
      },
      {
       "output_type": "stream",
       "stream": "stdout",
       "text": [
        " 387:1134.|"
       ]
      },
      {
       "output_type": "stream",
       "stream": "stdout",
       "text": [
        " 386:1147.|"
       ]
      },
      {
       "output_type": "stream",
       "stream": "stdout",
       "text": [
        " 385:1159.|"
       ]
      },
      {
       "output_type": "stream",
       "stream": "stdout",
       "text": [
        " 384:1172.|"
       ]
      },
      {
       "output_type": "stream",
       "stream": "stdout",
       "text": [
        " 383:1185.|"
       ]
      },
      {
       "output_type": "stream",
       "stream": "stdout",
       "text": [
        " 382:1198.|"
       ]
      },
      {
       "output_type": "stream",
       "stream": "stdout",
       "text": [
        " 381:1212.|"
       ]
      },
      {
       "output_type": "stream",
       "stream": "stdout",
       "text": [
        " 380:1225.|"
       ]
      },
      {
       "output_type": "stream",
       "stream": "stdout",
       "text": [
        " 379:1239.|"
       ]
      },
      {
       "output_type": "stream",
       "stream": "stdout",
       "text": [
        " 378:1252.|"
       ]
      },
      {
       "output_type": "stream",
       "stream": "stdout",
       "text": [
        " 377:1265.|"
       ]
      },
      {
       "output_type": "stream",
       "stream": "stdout",
       "text": [
        " 376:1279.|"
       ]
      },
      {
       "output_type": "stream",
       "stream": "stdout",
       "text": [
        " 375:1292.|"
       ]
      },
      {
       "output_type": "stream",
       "stream": "stdout",
       "text": [
        " 374:1306.|"
       ]
      },
      {
       "output_type": "stream",
       "stream": "stdout",
       "text": [
        " 373:1320.|"
       ]
      },
      {
       "output_type": "stream",
       "stream": "stdout",
       "text": [
        " 372:1333.|"
       ]
      },
      {
       "output_type": "stream",
       "stream": "stdout",
       "text": [
        " 371:1347.|"
       ]
      },
      {
       "output_type": "stream",
       "stream": "stdout",
       "text": [
        " 370:1361.|"
       ]
      },
      {
       "output_type": "stream",
       "stream": "stdout",
       "text": [
        " 369:1375.|"
       ]
      },
      {
       "output_type": "stream",
       "stream": "stdout",
       "text": [
        " 368:1389.|"
       ]
      },
      {
       "output_type": "stream",
       "stream": "stdout",
       "text": [
        " 367:1403.|"
       ]
      },
      {
       "output_type": "stream",
       "stream": "stdout",
       "text": [
        " 366:1417.|"
       ]
      },
      {
       "output_type": "stream",
       "stream": "stdout",
       "text": [
        " 365:1431.|"
       ]
      },
      {
       "output_type": "stream",
       "stream": "stdout",
       "text": [
        " 364:1445.|"
       ]
      },
      {
       "output_type": "stream",
       "stream": "stdout",
       "text": [
        " 363:1459.|"
       ]
      },
      {
       "output_type": "stream",
       "stream": "stdout",
       "text": [
        " 362:1474.|"
       ]
      },
      {
       "output_type": "stream",
       "stream": "stdout",
       "text": [
        " 361:1488.|"
       ]
      },
      {
       "output_type": "stream",
       "stream": "stdout",
       "text": [
        " 360:1502.|"
       ]
      },
      {
       "output_type": "stream",
       "stream": "stdout",
       "text": [
        " 359:1517.|"
       ]
      },
      {
       "output_type": "stream",
       "stream": "stdout",
       "text": [
        " 358:1531.|"
       ]
      },
      {
       "output_type": "stream",
       "stream": "stdout",
       "text": [
        " 357:1546.|"
       ]
      },
      {
       "output_type": "stream",
       "stream": "stdout",
       "text": [
        " 356:1560.|"
       ]
      },
      {
       "output_type": "stream",
       "stream": "stdout",
       "text": [
        " 355:1575.|"
       ]
      },
      {
       "output_type": "stream",
       "stream": "stdout",
       "text": [
        " 354:1589.|"
       ]
      },
      {
       "output_type": "stream",
       "stream": "stdout",
       "text": [
        " 353:1604.|"
       ]
      },
      {
       "output_type": "stream",
       "stream": "stdout",
       "text": [
        " 352:1619.|"
       ]
      },
      {
       "output_type": "stream",
       "stream": "stdout",
       "text": [
        " 351:1634.|"
       ]
      },
      {
       "output_type": "stream",
       "stream": "stdout",
       "text": [
        " 350:1649.|"
       ]
      },
      {
       "output_type": "stream",
       "stream": "stdout",
       "text": [
        " 349:1664.|"
       ]
      },
      {
       "output_type": "stream",
       "stream": "stdout",
       "text": [
        " 348:1679.|"
       ]
      },
      {
       "output_type": "stream",
       "stream": "stdout",
       "text": [
        " 347:1694.|"
       ]
      },
      {
       "output_type": "stream",
       "stream": "stdout",
       "text": [
        " 346:1709.|"
       ]
      },
      {
       "output_type": "stream",
       "stream": "stdout",
       "text": [
        " 345:1724.|"
       ]
      },
      {
       "output_type": "stream",
       "stream": "stdout",
       "text": [
        " 344:1739.|"
       ]
      },
      {
       "output_type": "stream",
       "stream": "stdout",
       "text": [
        " 343:1754.|"
       ]
      },
      {
       "output_type": "stream",
       "stream": "stdout",
       "text": [
        " 342:1770.|"
       ]
      },
      {
       "output_type": "stream",
       "stream": "stdout",
       "text": [
        " 341:1785.|"
       ]
      },
      {
       "output_type": "stream",
       "stream": "stdout",
       "text": [
        " 340:1800.|"
       ]
      },
      {
       "output_type": "stream",
       "stream": "stdout",
       "text": [
        " 339:1816.|"
       ]
      },
      {
       "output_type": "stream",
       "stream": "stdout",
       "text": [
        " 338:1831.|"
       ]
      },
      {
       "output_type": "stream",
       "stream": "stdout",
       "text": [
        " 337:1847.|"
       ]
      },
      {
       "output_type": "stream",
       "stream": "stdout",
       "text": [
        " 336:1863.|"
       ]
      },
      {
       "output_type": "stream",
       "stream": "stdout",
       "text": [
        " 335:1878.|"
       ]
      },
      {
       "output_type": "stream",
       "stream": "stdout",
       "text": [
        " 334:1894.|"
       ]
      },
      {
       "output_type": "stream",
       "stream": "stdout",
       "text": [
        " 333:1910.|"
       ]
      },
      {
       "output_type": "stream",
       "stream": "stdout",
       "text": [
        " 332:1926.|"
       ]
      },
      {
       "output_type": "stream",
       "stream": "stdout",
       "text": [
        " 331:1942.|"
       ]
      },
      {
       "output_type": "stream",
       "stream": "stdout",
       "text": [
        " 330:1958.|"
       ]
      },
      {
       "output_type": "stream",
       "stream": "stdout",
       "text": [
        " 329:1973.|"
       ]
      },
      {
       "output_type": "stream",
       "stream": "stdout",
       "text": [
        " 328:1989.|"
       ]
      },
      {
       "output_type": "stream",
       "stream": "stdout",
       "text": [
        " 327:2005.|"
       ]
      },
      {
       "output_type": "stream",
       "stream": "stdout",
       "text": [
        " 326:2022.|"
       ]
      },
      {
       "output_type": "stream",
       "stream": "stdout",
       "text": [
        " 325:2038.|"
       ]
      },
      {
       "output_type": "stream",
       "stream": "stdout",
       "text": [
        " 324:2054.|"
       ]
      },
      {
       "output_type": "stream",
       "stream": "stdout",
       "text": [
        " 323:2071.|"
       ]
      },
      {
       "output_type": "stream",
       "stream": "stdout",
       "text": [
        " 322:2087.|"
       ]
      },
      {
       "output_type": "stream",
       "stream": "stdout",
       "text": [
        " 321:2104.|"
       ]
      },
      {
       "output_type": "stream",
       "stream": "stdout",
       "text": [
        " 320:2120.|"
       ]
      },
      {
       "output_type": "stream",
       "stream": "stdout",
       "text": [
        " 319:2137.|"
       ]
      },
      {
       "output_type": "stream",
       "stream": "stdout",
       "text": [
        " 318:2153.|"
       ]
      },
      {
       "output_type": "stream",
       "stream": "stdout",
       "text": [
        " 317:2170.|"
       ]
      },
      {
       "output_type": "stream",
       "stream": "stdout",
       "text": [
        " 316:2187.|"
       ]
      },
      {
       "output_type": "stream",
       "stream": "stdout",
       "text": [
        " 315:2204.|"
       ]
      },
      {
       "output_type": "stream",
       "stream": "stdout",
       "text": [
        " 314:2221.|"
       ]
      },
      {
       "output_type": "stream",
       "stream": "stdout",
       "text": [
        " 313:2238.|"
       ]
      },
      {
       "output_type": "stream",
       "stream": "stdout",
       "text": [
        " 312:2255.|"
       ]
      },
      {
       "output_type": "stream",
       "stream": "stdout",
       "text": [
        " 311:2272.|"
       ]
      },
      {
       "output_type": "stream",
       "stream": "stdout",
       "text": [
        " 310:2288.|"
       ]
      },
      {
       "output_type": "stream",
       "stream": "stdout",
       "text": [
        " 309:2306.|"
       ]
      },
      {
       "output_type": "stream",
       "stream": "stdout",
       "text": [
        " 308:2323.|"
       ]
      },
      {
       "output_type": "stream",
       "stream": "stdout",
       "text": [
        " 307:2340.|"
       ]
      },
      {
       "output_type": "stream",
       "stream": "stdout",
       "text": [
        " 306:2357.|"
       ]
      },
      {
       "output_type": "stream",
       "stream": "stdout",
       "text": [
        " 305:2375.|"
       ]
      },
      {
       "output_type": "stream",
       "stream": "stdout",
       "text": [
        " 304:2392.|"
       ]
      },
      {
       "output_type": "stream",
       "stream": "stdout",
       "text": [
        " 303:2410.|"
       ]
      },
      {
       "output_type": "stream",
       "stream": "stdout",
       "text": [
        " 302:2427.|"
       ]
      },
      {
       "output_type": "stream",
       "stream": "stdout",
       "text": [
        " 301:2445.|"
       ]
      },
      {
       "output_type": "stream",
       "stream": "stdout",
       "text": [
        " 300:2462.|"
       ]
      },
      {
       "output_type": "stream",
       "stream": "stdout",
       "text": [
        " 299:2480.|"
       ]
      },
      {
       "output_type": "stream",
       "stream": "stdout",
       "text": [
        " 298:2498.|"
       ]
      },
      {
       "output_type": "stream",
       "stream": "stdout",
       "text": [
        " 297:2516.|"
       ]
      },
      {
       "output_type": "stream",
       "stream": "stdout",
       "text": [
        " 296:2534.|"
       ]
      },
      {
       "output_type": "stream",
       "stream": "stdout",
       "text": [
        " 295:2552.|"
       ]
      },
      {
       "output_type": "stream",
       "stream": "stdout",
       "text": [
        " 294:2570.|"
       ]
      },
      {
       "output_type": "stream",
       "stream": "stdout",
       "text": [
        " 293:2588.|"
       ]
      },
      {
       "output_type": "stream",
       "stream": "stdout",
       "text": [
        " 292:2606.|"
       ]
      },
      {
       "output_type": "stream",
       "stream": "stdout",
       "text": [
        " 291:2624.|"
       ]
      },
      {
       "output_type": "stream",
       "stream": "stdout",
       "text": [
        " 290:2643.|"
       ]
      },
      {
       "output_type": "stream",
       "stream": "stdout",
       "text": [
        " 289:2661.|"
       ]
      },
      {
       "output_type": "stream",
       "stream": "stdout",
       "text": [
        " 288:2680.|"
       ]
      },
      {
       "output_type": "stream",
       "stream": "stdout",
       "text": [
        " 287:2698.|"
       ]
      },
      {
       "output_type": "stream",
       "stream": "stdout",
       "text": [
        " 286:2717.|"
       ]
      },
      {
       "output_type": "stream",
       "stream": "stdout",
       "text": [
        " 285:2735.|"
       ]
      },
      {
       "output_type": "stream",
       "stream": "stdout",
       "text": [
        " 284:2754.|"
       ]
      },
      {
       "output_type": "stream",
       "stream": "stdout",
       "text": [
        " 283:2773.|"
       ]
      },
      {
       "output_type": "stream",
       "stream": "stdout",
       "text": [
        " 282:2791.|"
       ]
      },
      {
       "output_type": "stream",
       "stream": "stdout",
       "text": [
        " 281:2810.|"
       ]
      },
      {
       "output_type": "stream",
       "stream": "stdout",
       "text": [
        " 280:2829.|"
       ]
      },
      {
       "output_type": "stream",
       "stream": "stdout",
       "text": [
        " 279:2848.|"
       ]
      },
      {
       "output_type": "stream",
       "stream": "stdout",
       "text": [
        " 278:2867.|"
       ]
      },
      {
       "output_type": "stream",
       "stream": "stdout",
       "text": [
        " 277:2886.|"
       ]
      },
      {
       "output_type": "stream",
       "stream": "stdout",
       "text": [
        " 276:2905.|"
       ]
      },
      {
       "output_type": "stream",
       "stream": "stdout",
       "text": [
        " 275:2924.|"
       ]
      },
      {
       "output_type": "stream",
       "stream": "stdout",
       "text": [
        " 274:2943.|"
       ]
      },
      {
       "output_type": "stream",
       "stream": "stdout",
       "text": [
        " 273:2962.|"
       ]
      },
      {
       "output_type": "stream",
       "stream": "stdout",
       "text": [
        " 272:2982.|"
       ]
      },
      {
       "output_type": "stream",
       "stream": "stdout",
       "text": [
        " 271:3001.|"
       ]
      },
      {
       "output_type": "stream",
       "stream": "stdout",
       "text": [
        " 270:3020.|"
       ]
      },
      {
       "output_type": "stream",
       "stream": "stdout",
       "text": [
        " 269:3040.|"
       ]
      },
      {
       "output_type": "stream",
       "stream": "stdout",
       "text": [
        " 268:3059.|"
       ]
      },
      {
       "output_type": "stream",
       "stream": "stdout",
       "text": [
        " 267:3078.|"
       ]
      },
      {
       "output_type": "stream",
       "stream": "stdout",
       "text": [
        " 266:3098.|"
       ]
      },
      {
       "output_type": "stream",
       "stream": "stdout",
       "text": [
        " 265:3118.|"
       ]
      },
      {
       "output_type": "stream",
       "stream": "stdout",
       "text": [
        " 264:3137.|"
       ]
      },
      {
       "output_type": "stream",
       "stream": "stdout",
       "text": [
        " 263:3157.|"
       ]
      },
      {
       "output_type": "stream",
       "stream": "stdout",
       "text": [
        " 262:3177.|"
       ]
      },
      {
       "output_type": "stream",
       "stream": "stdout",
       "text": [
        " 261:3197.|"
       ]
      },
      {
       "output_type": "stream",
       "stream": "stdout",
       "text": [
        " 260:3216.|"
       ]
      },
      {
       "output_type": "stream",
       "stream": "stdout",
       "text": [
        " 259:3236.|"
       ]
      },
      {
       "output_type": "stream",
       "stream": "stdout",
       "text": [
        " 258:3256.|"
       ]
      },
      {
       "output_type": "stream",
       "stream": "stdout",
       "text": [
        " 257:3276.|"
       ]
      },
      {
       "output_type": "stream",
       "stream": "stdout",
       "text": [
        " 256:3296.|"
       ]
      },
      {
       "output_type": "stream",
       "stream": "stdout",
       "text": [
        " 255:3316.|"
       ]
      },
      {
       "output_type": "stream",
       "stream": "stdout",
       "text": [
        " 254:3337.|"
       ]
      },
      {
       "output_type": "stream",
       "stream": "stdout",
       "text": [
        " 253:3357.|"
       ]
      },
      {
       "output_type": "stream",
       "stream": "stdout",
       "text": [
        " 252:3378.|"
       ]
      },
      {
       "output_type": "stream",
       "stream": "stdout",
       "text": [
        " 251:3398.|"
       ]
      },
      {
       "output_type": "stream",
       "stream": "stdout",
       "text": [
        " 250:3418.|"
       ]
      },
      {
       "output_type": "stream",
       "stream": "stdout",
       "text": [
        " 249:3439.|"
       ]
      },
      {
       "output_type": "stream",
       "stream": "stdout",
       "text": [
        " 248:3460.|"
       ]
      },
      {
       "output_type": "stream",
       "stream": "stdout",
       "text": [
        " 247:3480.|"
       ]
      },
      {
       "output_type": "stream",
       "stream": "stdout",
       "text": [
        " 246:3501.|"
       ]
      },
      {
       "output_type": "stream",
       "stream": "stdout",
       "text": [
        " 245:3522.|"
       ]
      },
      {
       "output_type": "stream",
       "stream": "stdout",
       "text": [
        " 244:3543.|"
       ]
      },
      {
       "output_type": "stream",
       "stream": "stdout",
       "text": [
        " 243:3563.|"
       ]
      },
      {
       "output_type": "stream",
       "stream": "stdout",
       "text": [
        " 242:3584.|"
       ]
      },
      {
       "output_type": "stream",
       "stream": "stdout",
       "text": [
        " 241:3605.|"
       ]
      },
      {
       "output_type": "stream",
       "stream": "stdout",
       "text": [
        " 240:3626.|"
       ]
      },
      {
       "output_type": "stream",
       "stream": "stdout",
       "text": [
        " 239:3647.|"
       ]
      },
      {
       "output_type": "stream",
       "stream": "stdout",
       "text": [
        " 238:3668.|"
       ]
      },
      {
       "output_type": "stream",
       "stream": "stdout",
       "text": [
        " 237:3689.|"
       ]
      },
      {
       "output_type": "stream",
       "stream": "stdout",
       "text": [
        " 236:3710.|"
       ]
      },
      {
       "output_type": "stream",
       "stream": "stdout",
       "text": [
        " 235:3732.|"
       ]
      },
      {
       "output_type": "stream",
       "stream": "stdout",
       "text": [
        " 234:3753.|"
       ]
      },
      {
       "output_type": "stream",
       "stream": "stdout",
       "text": [
        " 233:3774.|"
       ]
      },
      {
       "output_type": "stream",
       "stream": "stdout",
       "text": [
        " 232:3796.|"
       ]
      },
      {
       "output_type": "stream",
       "stream": "stdout",
       "text": [
        " 231:3817.|"
       ]
      },
      {
       "output_type": "stream",
       "stream": "stdout",
       "text": [
        " 230:3839.|"
       ]
      },
      {
       "output_type": "stream",
       "stream": "stdout",
       "text": [
        " 229:3860.|"
       ]
      },
      {
       "output_type": "stream",
       "stream": "stdout",
       "text": [
        " 228:3882.|"
       ]
      },
      {
       "output_type": "stream",
       "stream": "stdout",
       "text": [
        " 227:3904.|"
       ]
      },
      {
       "output_type": "stream",
       "stream": "stdout",
       "text": [
        " 226:3925.|"
       ]
      },
      {
       "output_type": "stream",
       "stream": "stdout",
       "text": [
        " 225:3947.|"
       ]
      },
      {
       "output_type": "stream",
       "stream": "stdout",
       "text": [
        " 224:3969.|"
       ]
      },
      {
       "output_type": "stream",
       "stream": "stdout",
       "text": [
        " 223:3991.|"
       ]
      },
      {
       "output_type": "stream",
       "stream": "stdout",
       "text": [
        " 222:4013.|"
       ]
      },
      {
       "output_type": "stream",
       "stream": "stdout",
       "text": [
        " 221:4035.|"
       ]
      },
      {
       "output_type": "stream",
       "stream": "stdout",
       "text": [
        " 220:4057.|"
       ]
      },
      {
       "output_type": "stream",
       "stream": "stdout",
       "text": [
        " 219:4079.|"
       ]
      },
      {
       "output_type": "stream",
       "stream": "stdout",
       "text": [
        " 218:4101.|"
       ]
      },
      {
       "output_type": "stream",
       "stream": "stdout",
       "text": [
        " 217:4123.|"
       ]
      },
      {
       "output_type": "stream",
       "stream": "stdout",
       "text": [
        " 216:4145.|"
       ]
      },
      {
       "output_type": "stream",
       "stream": "stdout",
       "text": [
        " 215:4167.|"
       ]
      },
      {
       "output_type": "stream",
       "stream": "stdout",
       "text": [
        " 214:4190.|"
       ]
      },
      {
       "output_type": "stream",
       "stream": "stdout",
       "text": [
        " 213:4212.|"
       ]
      },
      {
       "output_type": "stream",
       "stream": "stdout",
       "text": [
        " 212:4235.|"
       ]
      },
      {
       "output_type": "stream",
       "stream": "stdout",
       "text": [
        " 211:4257.|"
       ]
      },
      {
       "output_type": "stream",
       "stream": "stdout",
       "text": [
        " 210:4279.|"
       ]
      },
      {
       "output_type": "stream",
       "stream": "stdout",
       "text": [
        " 209:4302.|"
       ]
      },
      {
       "output_type": "stream",
       "stream": "stdout",
       "text": [
        " 208:4325.|"
       ]
      },
      {
       "output_type": "stream",
       "stream": "stdout",
       "text": [
        " 207:4348.|"
       ]
      },
      {
       "output_type": "stream",
       "stream": "stdout",
       "text": [
        " 206:4370.|"
       ]
      },
      {
       "output_type": "stream",
       "stream": "stdout",
       "text": [
        " 205:4393.|"
       ]
      },
      {
       "output_type": "stream",
       "stream": "stdout",
       "text": [
        " 204:4416.|"
       ]
      },
      {
       "output_type": "stream",
       "stream": "stdout",
       "text": [
        " 203:4439.|"
       ]
      },
      {
       "output_type": "stream",
       "stream": "stdout",
       "text": [
        " 202:4462.|"
       ]
      },
      {
       "output_type": "stream",
       "stream": "stdout",
       "text": [
        " 201:4485.|"
       ]
      },
      {
       "output_type": "stream",
       "stream": "stdout",
       "text": [
        " 200:4508.|"
       ]
      },
      {
       "output_type": "stream",
       "stream": "stdout",
       "text": [
        " 199:4531.|"
       ]
      },
      {
       "output_type": "stream",
       "stream": "stdout",
       "text": [
        " 198:4554.|"
       ]
      },
      {
       "output_type": "stream",
       "stream": "stdout",
       "text": [
        " 197:4578.|"
       ]
      },
      {
       "output_type": "stream",
       "stream": "stdout",
       "text": [
        " 196:4601.|"
       ]
      },
      {
       "output_type": "stream",
       "stream": "stdout",
       "text": [
        " 195:4624.|"
       ]
      },
      {
       "output_type": "stream",
       "stream": "stdout",
       "text": [
        " 194:4647.|"
       ]
      },
      {
       "output_type": "stream",
       "stream": "stdout",
       "text": [
        " 193:4671.|"
       ]
      },
      {
       "output_type": "stream",
       "stream": "stdout",
       "text": [
        " 192:4694.|"
       ]
      },
      {
       "output_type": "stream",
       "stream": "stdout",
       "text": [
        " 191:4718.|"
       ]
      },
      {
       "output_type": "stream",
       "stream": "stdout",
       "text": [
        " 190:4741.|"
       ]
      },
      {
       "output_type": "stream",
       "stream": "stdout",
       "text": [
        " 189:4765.|"
       ]
      },
      {
       "output_type": "stream",
       "stream": "stdout",
       "text": [
        " 188:4789.|"
       ]
      },
      {
       "output_type": "stream",
       "stream": "stdout",
       "text": [
        " 187:4813.|"
       ]
      },
      {
       "output_type": "stream",
       "stream": "stdout",
       "text": [
        " 186:4837.|"
       ]
      },
      {
       "output_type": "stream",
       "stream": "stdout",
       "text": [
        " 185:4861.|"
       ]
      },
      {
       "output_type": "stream",
       "stream": "stdout",
       "text": [
        " 184:4885.|"
       ]
      },
      {
       "output_type": "stream",
       "stream": "stdout",
       "text": [
        " 183:4909.|"
       ]
      },
      {
       "output_type": "stream",
       "stream": "stdout",
       "text": [
        " 182:4933.|"
       ]
      },
      {
       "output_type": "stream",
       "stream": "stdout",
       "text": [
        " 181:4958.|"
       ]
      },
      {
       "output_type": "stream",
       "stream": "stdout",
       "text": [
        " 180:4982.|"
       ]
      },
      {
       "output_type": "stream",
       "stream": "stdout",
       "text": [
        " 179:5007.|"
       ]
      },
      {
       "output_type": "stream",
       "stream": "stdout",
       "text": [
        " 178:5031.|"
       ]
      },
      {
       "output_type": "stream",
       "stream": "stdout",
       "text": [
        " 177:5056.|"
       ]
      },
      {
       "output_type": "stream",
       "stream": "stdout",
       "text": [
        " 176:5080.|"
       ]
      },
      {
       "output_type": "stream",
       "stream": "stdout",
       "text": [
        " 175:5104.|"
       ]
      },
      {
       "output_type": "stream",
       "stream": "stdout",
       "text": [
        " 174:5129.|"
       ]
      },
      {
       "output_type": "stream",
       "stream": "stdout",
       "text": [
        " 173:5154.|"
       ]
      },
      {
       "output_type": "stream",
       "stream": "stdout",
       "text": [
        " 172:5179.|"
       ]
      },
      {
       "output_type": "stream",
       "stream": "stdout",
       "text": [
        " 171:5203.|"
       ]
      },
      {
       "output_type": "stream",
       "stream": "stdout",
       "text": [
        " 170:5228.|"
       ]
      },
      {
       "output_type": "stream",
       "stream": "stdout",
       "text": [
        " 169:5253.|"
       ]
      },
      {
       "output_type": "stream",
       "stream": "stdout",
       "text": [
        " 168:5278.|"
       ]
      },
      {
       "output_type": "stream",
       "stream": "stdout",
       "text": [
        " 167:5303.|"
       ]
      },
      {
       "output_type": "stream",
       "stream": "stdout",
       "text": [
        " 166:5328.|"
       ]
      },
      {
       "output_type": "stream",
       "stream": "stdout",
       "text": [
        " 165:5353.|"
       ]
      },
      {
       "output_type": "stream",
       "stream": "stdout",
       "text": [
        " 164:5378.|"
       ]
      },
      {
       "output_type": "stream",
       "stream": "stdout",
       "text": [
        " 163:5404.|"
       ]
      },
      {
       "output_type": "stream",
       "stream": "stdout",
       "text": [
        " 162:5429.|"
       ]
      },
      {
       "output_type": "stream",
       "stream": "stdout",
       "text": [
        " 161:5454.|"
       ]
      },
      {
       "output_type": "stream",
       "stream": "stdout",
       "text": [
        " 160:5480.|"
       ]
      },
      {
       "output_type": "stream",
       "stream": "stdout",
       "text": [
        " 159:5506.|"
       ]
      },
      {
       "output_type": "stream",
       "stream": "stdout",
       "text": [
        " 158:5531.|"
       ]
      },
      {
       "output_type": "stream",
       "stream": "stdout",
       "text": [
        " 157:5557.|"
       ]
      },
      {
       "output_type": "stream",
       "stream": "stdout",
       "text": [
        " 156:5583.|"
       ]
      },
      {
       "output_type": "stream",
       "stream": "stdout",
       "text": [
        " 155:5609.|"
       ]
      },
      {
       "output_type": "stream",
       "stream": "stdout",
       "text": [
        " 154:5635.|"
       ]
      },
      {
       "output_type": "stream",
       "stream": "stdout",
       "text": [
        " 153:5661.|"
       ]
      },
      {
       "output_type": "stream",
       "stream": "stdout",
       "text": [
        " 152:5687.|"
       ]
      },
      {
       "output_type": "stream",
       "stream": "stdout",
       "text": [
        " 151:5713.|"
       ]
      },
      {
       "output_type": "stream",
       "stream": "stdout",
       "text": [
        " 150:5739.|"
       ]
      },
      {
       "output_type": "stream",
       "stream": "stdout",
       "text": [
        " 149:5765.|"
       ]
      },
      {
       "output_type": "stream",
       "stream": "stdout",
       "text": [
        " 148:5791.|"
       ]
      },
      {
       "output_type": "stream",
       "stream": "stdout",
       "text": [
        " 147:5817.|"
       ]
      },
      {
       "output_type": "stream",
       "stream": "stdout",
       "text": [
        " 146:5843.|"
       ]
      },
      {
       "output_type": "stream",
       "stream": "stdout",
       "text": [
        " 145:5870.|"
       ]
      },
      {
       "output_type": "stream",
       "stream": "stdout",
       "text": [
        " 144:5896.|"
       ]
      },
      {
       "output_type": "stream",
       "stream": "stdout",
       "text": [
        " 143:5922.|"
       ]
      },
      {
       "output_type": "stream",
       "stream": "stdout",
       "text": [
        " 142:5949.|"
       ]
      },
      {
       "output_type": "stream",
       "stream": "stdout",
       "text": [
        " 141:5975.|"
       ]
      },
      {
       "output_type": "stream",
       "stream": "stdout",
       "text": [
        " 140:6002.|"
       ]
      },
      {
       "output_type": "stream",
       "stream": "stdout",
       "text": [
        " 139:6029.|"
       ]
      },
      {
       "output_type": "stream",
       "stream": "stdout",
       "text": [
        " 138:6056.|"
       ]
      },
      {
       "output_type": "stream",
       "stream": "stdout",
       "text": [
        " 137:6083.|"
       ]
      },
      {
       "output_type": "stream",
       "stream": "stdout",
       "text": [
        " 136:6109.|"
       ]
      },
      {
       "output_type": "stream",
       "stream": "stdout",
       "text": [
        " 135:6136.|"
       ]
      },
      {
       "output_type": "stream",
       "stream": "stdout",
       "text": [
        " 134:6163.|"
       ]
      },
      {
       "output_type": "stream",
       "stream": "stdout",
       "text": [
        " 133:6190.|"
       ]
      },
      {
       "output_type": "stream",
       "stream": "stdout",
       "text": [
        " 132:6217.|"
       ]
      },
      {
       "output_type": "stream",
       "stream": "stdout",
       "text": [
        " 131:6245.|"
       ]
      },
      {
       "output_type": "stream",
       "stream": "stdout",
       "text": [
        " 130:6272.|"
       ]
      },
      {
       "output_type": "stream",
       "stream": "stdout",
       "text": [
        " 129:6299.|"
       ]
      },
      {
       "output_type": "stream",
       "stream": "stdout",
       "text": [
        " 128:6327.|"
       ]
      },
      {
       "output_type": "stream",
       "stream": "stdout",
       "text": [
        " 127:6354.|"
       ]
      },
      {
       "output_type": "stream",
       "stream": "stdout",
       "text": [
        " 126:6381.|"
       ]
      },
      {
       "output_type": "stream",
       "stream": "stdout",
       "text": [
        " 125:6409.|"
       ]
      },
      {
       "output_type": "stream",
       "stream": "stdout",
       "text": [
        " 124:6437.|"
       ]
      },
      {
       "output_type": "stream",
       "stream": "stdout",
       "text": [
        " 123:6464.|"
       ]
      },
      {
       "output_type": "stream",
       "stream": "stdout",
       "text": [
        " 122:6492.|"
       ]
      },
      {
       "output_type": "stream",
       "stream": "stdout",
       "text": [
        " 121:6520.|"
       ]
      },
      {
       "output_type": "stream",
       "stream": "stdout",
       "text": [
        " 120:6548.|"
       ]
      },
      {
       "output_type": "stream",
       "stream": "stdout",
       "text": [
        " 119:6576.|"
       ]
      },
      {
       "output_type": "stream",
       "stream": "stdout",
       "text": [
        " 118:6604.|"
       ]
      },
      {
       "output_type": "stream",
       "stream": "stdout",
       "text": [
        " 117:6632.|"
       ]
      },
      {
       "output_type": "stream",
       "stream": "stdout",
       "text": [
        " 116:6660.|"
       ]
      },
      {
       "output_type": "stream",
       "stream": "stdout",
       "text": [
        " 115:6688.|"
       ]
      },
      {
       "output_type": "stream",
       "stream": "stdout",
       "text": [
        " 114:6716.|"
       ]
      },
      {
       "output_type": "stream",
       "stream": "stdout",
       "text": [
        " 113:6745.|"
       ]
      },
      {
       "output_type": "stream",
       "stream": "stdout",
       "text": [
        " 112:6773.|"
       ]
      },
      {
       "output_type": "stream",
       "stream": "stdout",
       "text": [
        " 111:6801.|"
       ]
      },
      {
       "output_type": "stream",
       "stream": "stdout",
       "text": [
        " 110:6830.|"
       ]
      },
      {
       "output_type": "stream",
       "stream": "stdout",
       "text": [
        " 109:6858.|"
       ]
      },
      {
       "output_type": "stream",
       "stream": "stdout",
       "text": [
        " 108:6887.|"
       ]
      },
      {
       "output_type": "stream",
       "stream": "stdout",
       "text": [
        " 107:6916.|"
       ]
      },
      {
       "output_type": "stream",
       "stream": "stdout",
       "text": [
        " 106:6944.|"
       ]
      },
      {
       "output_type": "stream",
       "stream": "stdout",
       "text": [
        " 105:6973.|"
       ]
      },
      {
       "output_type": "stream",
       "stream": "stdout",
       "text": [
        " 104:7002.|"
       ]
      },
      {
       "output_type": "stream",
       "stream": "stdout",
       "text": [
        " 103:7031.|"
       ]
      },
      {
       "output_type": "stream",
       "stream": "stdout",
       "text": [
        " 102:7060.|"
       ]
      },
      {
       "output_type": "stream",
       "stream": "stdout",
       "text": [
        " 101:7089.|"
       ]
      },
      {
       "output_type": "stream",
       "stream": "stdout",
       "text": [
        " 100:7118.|"
       ]
      },
      {
       "output_type": "stream",
       "stream": "stdout",
       "text": [
        " 99:7147.|"
       ]
      },
      {
       "output_type": "stream",
       "stream": "stdout",
       "text": [
        " 98:7177.|"
       ]
      },
      {
       "output_type": "stream",
       "stream": "stdout",
       "text": [
        " 97:7206.|"
       ]
      },
      {
       "output_type": "stream",
       "stream": "stdout",
       "text": [
        " 96:7236.|"
       ]
      },
      {
       "output_type": "stream",
       "stream": "stdout",
       "text": [
        " 95:7265.|"
       ]
      },
      {
       "output_type": "stream",
       "stream": "stdout",
       "text": [
        " 94:7294.|"
       ]
      },
      {
       "output_type": "stream",
       "stream": "stdout",
       "text": [
        " 93:7324.|"
       ]
      },
      {
       "output_type": "stream",
       "stream": "stdout",
       "text": [
        " 92:7354.|"
       ]
      },
      {
       "output_type": "stream",
       "stream": "stdout",
       "text": [
        " 91:7383.|"
       ]
      },
      {
       "output_type": "stream",
       "stream": "stdout",
       "text": [
        " 90:7413.|"
       ]
      },
      {
       "output_type": "stream",
       "stream": "stdout",
       "text": [
        " 89:7442.|"
       ]
      },
      {
       "output_type": "stream",
       "stream": "stdout",
       "text": [
        " 88:7472.|"
       ]
      },
      {
       "output_type": "stream",
       "stream": "stdout",
       "text": [
        " 87:7502.|"
       ]
      },
      {
       "output_type": "stream",
       "stream": "stdout",
       "text": [
        " 86:7532.|"
       ]
      },
      {
       "output_type": "stream",
       "stream": "stdout",
       "text": [
        " 85:7562.|"
       ]
      },
      {
       "output_type": "stream",
       "stream": "stdout",
       "text": [
        " 84:7592.|"
       ]
      },
      {
       "output_type": "stream",
       "stream": "stdout",
       "text": [
        " 83:7622.|"
       ]
      },
      {
       "output_type": "stream",
       "stream": "stdout",
       "text": [
        " 82:7652.|"
       ]
      },
      {
       "output_type": "stream",
       "stream": "stdout",
       "text": [
        " 81:7682.|"
       ]
      },
      {
       "output_type": "stream",
       "stream": "stdout",
       "text": [
        " 80:7712.|"
       ]
      },
      {
       "output_type": "stream",
       "stream": "stdout",
       "text": [
        " 79:7742.|"
       ]
      },
      {
       "output_type": "stream",
       "stream": "stdout",
       "text": [
        " 78:7772.|"
       ]
      },
      {
       "output_type": "stream",
       "stream": "stdout",
       "text": [
        " 77:7803.|"
       ]
      },
      {
       "output_type": "stream",
       "stream": "stdout",
       "text": [
        " 76:7833.|"
       ]
      },
      {
       "output_type": "stream",
       "stream": "stdout",
       "text": [
        " 75:7864.|"
       ]
      },
      {
       "output_type": "stream",
       "stream": "stdout",
       "text": [
        " 74:7894.|"
       ]
      },
      {
       "output_type": "stream",
       "stream": "stdout",
       "text": [
        " 73:7925.|"
       ]
      },
      {
       "output_type": "stream",
       "stream": "stdout",
       "text": [
        " 72:7955.|"
       ]
      },
      {
       "output_type": "stream",
       "stream": "stdout",
       "text": [
        " 71:7986.|"
       ]
      },
      {
       "output_type": "stream",
       "stream": "stdout",
       "text": [
        " 70:8017.|"
       ]
      },
      {
       "output_type": "stream",
       "stream": "stdout",
       "text": [
        " 69:8047.|"
       ]
      },
      {
       "output_type": "stream",
       "stream": "stdout",
       "text": [
        " 68:8078.|"
       ]
      },
      {
       "output_type": "stream",
       "stream": "stdout",
       "text": [
        " 67:8109.|"
       ]
      },
      {
       "output_type": "stream",
       "stream": "stdout",
       "text": [
        " 66:8140.|"
       ]
      },
      {
       "output_type": "stream",
       "stream": "stdout",
       "text": [
        " 65:8171.|"
       ]
      },
      {
       "output_type": "stream",
       "stream": "stdout",
       "text": [
        " 64:8203.|"
       ]
      },
      {
       "output_type": "stream",
       "stream": "stdout",
       "text": [
        " 63:8234.|"
       ]
      },
      {
       "output_type": "stream",
       "stream": "stdout",
       "text": [
        " 62:8265.|"
       ]
      },
      {
       "output_type": "stream",
       "stream": "stdout",
       "text": [
        " 61:8297.|"
       ]
      },
      {
       "output_type": "stream",
       "stream": "stdout",
       "text": [
        " 60:8328.|"
       ]
      },
      {
       "output_type": "stream",
       "stream": "stdout",
       "text": [
        " 59:8360.|"
       ]
      },
      {
       "output_type": "stream",
       "stream": "stdout",
       "text": [
        " 58:8391.|"
       ]
      },
      {
       "output_type": "stream",
       "stream": "stdout",
       "text": [
        " 57:8423.|"
       ]
      },
      {
       "output_type": "stream",
       "stream": "stdout",
       "text": [
        " 56:8454.|"
       ]
      },
      {
       "output_type": "stream",
       "stream": "stdout",
       "text": [
        " 55:8486.|"
       ]
      },
      {
       "output_type": "stream",
       "stream": "stdout",
       "text": [
        " 54:8518.|"
       ]
      },
      {
       "output_type": "stream",
       "stream": "stdout",
       "text": [
        " 53:8550.|"
       ]
      },
      {
       "output_type": "stream",
       "stream": "stdout",
       "text": [
        " 52:8582.|"
       ]
      },
      {
       "output_type": "stream",
       "stream": "stdout",
       "text": [
        " 51:8613.|"
       ]
      },
      {
       "output_type": "stream",
       "stream": "stdout",
       "text": [
        " 50:8645.|"
       ]
      },
      {
       "output_type": "stream",
       "stream": "stdout",
       "text": [
        " 49:8678.|"
       ]
      },
      {
       "output_type": "stream",
       "stream": "stdout",
       "text": [
        " 48:8710.|"
       ]
      },
      {
       "output_type": "stream",
       "stream": "stdout",
       "text": [
        " 47:8742.|"
       ]
      },
      {
       "output_type": "stream",
       "stream": "stdout",
       "text": [
        " 46:8774.|"
       ]
      },
      {
       "output_type": "stream",
       "stream": "stdout",
       "text": [
        " 45:8807.|"
       ]
      },
      {
       "output_type": "stream",
       "stream": "stdout",
       "text": [
        " 44:8839.|"
       ]
      },
      {
       "output_type": "stream",
       "stream": "stdout",
       "text": [
        " 43:8872.|"
       ]
      },
      {
       "output_type": "stream",
       "stream": "stdout",
       "text": [
        " 42:8904.|"
       ]
      },
      {
       "output_type": "stream",
       "stream": "stdout",
       "text": [
        " 41:8937.|"
       ]
      },
      {
       "output_type": "stream",
       "stream": "stdout",
       "text": [
        " 40:8970.|"
       ]
      },
      {
       "output_type": "stream",
       "stream": "stdout",
       "text": [
        " 39:9004.|"
       ]
      },
      {
       "output_type": "stream",
       "stream": "stdout",
       "text": [
        " 38:9037.|"
       ]
      },
      {
       "output_type": "stream",
       "stream": "stdout",
       "text": [
        " 37:9070.|"
       ]
      },
      {
       "output_type": "stream",
       "stream": "stdout",
       "text": [
        " 36:9102.|"
       ]
      },
      {
       "output_type": "stream",
       "stream": "stdout",
       "text": [
        " 35:9137.|"
       ]
      },
      {
       "output_type": "stream",
       "stream": "stdout",
       "text": [
        " 34:9170.|"
       ]
      },
      {
       "output_type": "stream",
       "stream": "stdout",
       "text": [
        " 33:9202.|"
       ]
      },
      {
       "output_type": "stream",
       "stream": "stdout",
       "text": [
        " 32:9235.|"
       ]
      },
      {
       "output_type": "stream",
       "stream": "stdout",
       "text": [
        " 31:9268.|"
       ]
      },
      {
       "output_type": "stream",
       "stream": "stdout",
       "text": [
        " 30:9301.|"
       ]
      },
      {
       "output_type": "stream",
       "stream": "stdout",
       "text": [
        " 29:9335.|"
       ]
      },
      {
       "output_type": "stream",
       "stream": "stdout",
       "text": [
        " 28:9368.|"
       ]
      },
      {
       "output_type": "stream",
       "stream": "stdout",
       "text": [
        " 27:9402.|"
       ]
      },
      {
       "output_type": "stream",
       "stream": "stdout",
       "text": [
        " 26:9435.|"
       ]
      },
      {
       "output_type": "stream",
       "stream": "stdout",
       "text": [
        " 25:9469.|"
       ]
      },
      {
       "output_type": "stream",
       "stream": "stdout",
       "text": [
        " 24:9502.|"
       ]
      },
      {
       "output_type": "stream",
       "stream": "stdout",
       "text": [
        " 23:9536.|"
       ]
      },
      {
       "output_type": "stream",
       "stream": "stdout",
       "text": [
        " 22:9569.|"
       ]
      },
      {
       "output_type": "stream",
       "stream": "stdout",
       "text": [
        " 21:9603.|"
       ]
      },
      {
       "output_type": "stream",
       "stream": "stdout",
       "text": [
        " 20:9636.|"
       ]
      },
      {
       "output_type": "stream",
       "stream": "stdout",
       "text": [
        " 19:9670.|"
       ]
      },
      {
       "output_type": "stream",
       "stream": "stdout",
       "text": [
        " 18:9705.|"
       ]
      },
      {
       "output_type": "stream",
       "stream": "stdout",
       "text": [
        " 17:9739.|"
       ]
      },
      {
       "output_type": "stream",
       "stream": "stdout",
       "text": [
        " 16:9773.|"
       ]
      },
      {
       "output_type": "stream",
       "stream": "stdout",
       "text": [
        " 15:9807.|"
       ]
      },
      {
       "output_type": "stream",
       "stream": "stdout",
       "text": [
        " 14:9841.|"
       ]
      },
      {
       "output_type": "stream",
       "stream": "stdout",
       "text": [
        " 13:9875.|"
       ]
      },
      {
       "output_type": "stream",
       "stream": "stdout",
       "text": [
        " 12:9909.|"
       ]
      },
      {
       "output_type": "stream",
       "stream": "stdout",
       "text": [
        " 11:9943.|"
       ]
      },
      {
       "output_type": "stream",
       "stream": "stdout",
       "text": [
        " 10:9977.|"
       ]
      },
      {
       "output_type": "stream",
       "stream": "stdout",
       "text": [
        " 9:10012|"
       ]
      },
      {
       "output_type": "stream",
       "stream": "stdout",
       "text": [
        " 8:10046|"
       ]
      },
      {
       "output_type": "stream",
       "stream": "stdout",
       "text": [
        " 7:10081|"
       ]
      },
      {
       "output_type": "stream",
       "stream": "stdout",
       "text": [
        " 6:10115|"
       ]
      },
      {
       "output_type": "stream",
       "stream": "stdout",
       "text": [
        " 5:10150|"
       ]
      },
      {
       "output_type": "stream",
       "stream": "stdout",
       "text": [
        " 4:10185|"
       ]
      },
      {
       "output_type": "stream",
       "stream": "stdout",
       "text": [
        " 3:10219|"
       ]
      },
      {
       "output_type": "stream",
       "stream": "stdout",
       "text": [
        " 2:10254|"
       ]
      },
      {
       "output_type": "stream",
       "stream": "stdout",
       "text": [
        " ------------\n",
        "0.596082331603\n",
        "10292.517338  sec\n"
       ]
      }
     ],
     "prompt_number": 9
    },
    {
     "cell_type": "code",
     "collapsed": false,
     "input": [
      "\n",
      "clf_rf = RandomForestClassifier(n_estimators=5000, n_jobs=-1)\n",
      "clf_rf.fit(X_train, y_train)\n",
      "\n",
      "probs_rf = clf_rf.predict_proba(X_val)\n",
      "l_rf = log_loss(y_val, probs_rf)\n",
      "print l_rf"
     ],
     "language": "python",
     "metadata": {},
     "outputs": [
      {
       "output_type": "stream",
       "stream": "stderr",
       "text": [
        "\n",
        "KeyboardInterrupt\n",
        "ERROR:tornado.general:Uncaught exception, closing connection.\n",
        "Traceback (most recent call last):\n",
        "  File \"/usr/lib/python2.7/site-packages/zmq/eventloop/zmqstream.py\", line 407, in _run_callback\n",
        "    callback(*args, **kwargs)\n",
        "  File \"/usr/lib/python2.7/site-packages/tornado/stack_context.py\", line 275, in null_wrapper\n",
        "    return fn(*args, **kwargs)\n",
        "  File \"/usr/lib/python2.7/site-packages/IPython/kernel/zmq/ipkernel.py\", line 281, in dispatcher\n",
        "    return self.dispatch_shell(stream, msg)\n",
        "  File \"/usr/lib/python2.7/site-packages/IPython/kernel/zmq/ipkernel.py\", line 245, in dispatch_shell\n",
        "    handler(stream, idents, msg)\n",
        "  File \"/usr/lib/python2.7/site-packages/IPython/kernel/zmq/ipkernel.py\", line 399, in execute_request\n",
        "    tb_list = traceback.format_exception(etype, evalue, tb)\n",
        "  File \"/usr/lib/python2.7/traceback.py\", line 141, in format_exception\n",
        "    list = list + format_tb(tb, limit)\n",
        "  File \"/usr/lib/python2.7/traceback.py\", line 76, in format_tb\n",
        "    return format_list(extract_tb(tb, limit))\n",
        "  File \"/usr/lib/python2.7/traceback.py\", line 101, in extract_tb\n",
        "    line = linecache.getline(filename, lineno, f.f_globals)\n",
        "  File \"/usr/lib/python2.7/linecache.py\", line 14, in getline\n",
        "    lines = getlines(filename, module_globals)\n",
        "  File \"/usr/lib/python2.7/linecache.py\", line 40, in getlines\n",
        "    return updatecache(filename, module_globals)\n",
        "  File \"/usr/lib/python2.7/linecache.py\", line 128, in updatecache\n",
        "    lines = fp.readlines()\n",
        "KeyboardInterrupt\n"
       ]
      },
      {
       "output_type": "stream",
       "stream": "stderr",
       "text": [
        "ERROR:tornado.general:Uncaught exception, closing connection.\n",
        "Traceback (most recent call last):\n",
        "  File \"/usr/lib/python2.7/site-packages/zmq/eventloop/zmqstream.py\", line 433, in _handle_events\n",
        "    self._handle_recv()\n",
        "  File \"/usr/lib/python2.7/site-packages/zmq/eventloop/zmqstream.py\", line 465, in _handle_recv\n",
        "    self._run_callback(callback, msg)\n",
        "  File \"/usr/lib/python2.7/site-packages/zmq/eventloop/zmqstream.py\", line 407, in _run_callback\n",
        "    callback(*args, **kwargs)\n",
        "  File \"/usr/lib/python2.7/site-packages/tornado/stack_context.py\", line 275, in null_wrapper\n",
        "    return fn(*args, **kwargs)\n",
        "  File \"/usr/lib/python2.7/site-packages/IPython/kernel/zmq/ipkernel.py\", line 281, in dispatcher\n",
        "    return self.dispatch_shell(stream, msg)\n",
        "  File \"/usr/lib/python2.7/site-packages/IPython/kernel/zmq/ipkernel.py\", line 245, in dispatch_shell\n",
        "    handler(stream, idents, msg)\n",
        "  File \"/usr/lib/python2.7/site-packages/IPython/kernel/zmq/ipkernel.py\", line 399, in execute_request\n",
        "    tb_list = traceback.format_exception(etype, evalue, tb)\n",
        "  File \"/usr/lib/python2.7/traceback.py\", line 141, in format_exception\n",
        "    list = list + format_tb(tb, limit)\n",
        "  File \"/usr/lib/python2.7/traceback.py\", line 76, in format_tb\n",
        "    return format_list(extract_tb(tb, limit))\n",
        "  File \"/usr/lib/python2.7/traceback.py\", line 101, in extract_tb\n",
        "    line = linecache.getline(filename, lineno, f.f_globals)\n",
        "  File \"/usr/lib/python2.7/linecache.py\", line 14, in getline\n",
        "    lines = getlines(filename, module_globals)\n",
        "  File \"/usr/lib/python2.7/linecache.py\", line 40, in getlines\n",
        "    return updatecache(filename, module_globals)\n",
        "  File \"/usr/lib/python2.7/linecache.py\", line 128, in updatecache\n",
        "    lines = fp.readlines()\n",
        "KeyboardInterrupt\n"
       ]
      }
     ]
    },
    {
     "cell_type": "code",
     "collapsed": false,
     "input": [
      "pca = PCA(n_components=50).fit(X_all0)"
     ],
     "language": "python",
     "metadata": {},
     "outputs": [],
     "prompt_number": 74
    },
    {
     "cell_type": "code",
     "collapsed": false,
     "input": [
      "from sklearn.neighbors import KNeighborsClassifier\n",
      "clf_knn = KNeighborsClassifier()\n",
      "clf_knn.fit(pca.transform(X_train), y_train)\n",
      "\n",
      "probs_knn = clf_knn.predict_proba(pca.transform(X_val))\n",
      "l_knn= log_loss(y_val, probs_knn)\n",
      "print l_knn"
     ],
     "language": "python",
     "metadata": {},
     "outputs": [
      {
       "output_type": "stream",
       "stream": "stdout",
       "text": [
        "2.79550236593\n"
       ]
      }
     ],
     "prompt_number": 75
    },
    {
     "cell_type": "code",
     "collapsed": false,
     "input": [
      "del clf_rf"
     ],
     "language": "python",
     "metadata": {},
     "outputs": []
    }
   ],
   "metadata": {}
  }
 ]
}